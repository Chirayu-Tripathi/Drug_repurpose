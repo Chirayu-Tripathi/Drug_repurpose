{
 "cells": [
  {
   "cell_type": "code",
   "execution_count": 1,
   "metadata": {},
   "outputs": [
    {
     "name": "stdout",
     "output_type": "stream",
     "text": [
      "PyTorch has version 2.0.0+cu117\n",
      "11.7\n"
     ]
    }
   ],
   "source": [
    "import torch\n",
    "import os\n",
    "print(\"PyTorch has version {}\".format(torch.__version__))\n",
    "print(torch.version.cuda)"
   ]
  },
  {
   "cell_type": "code",
   "execution_count": 2,
   "metadata": {},
   "outputs": [],
   "source": [
    "import math\n",
    "import matplotlib.pyplot as plt\n",
    "import numpy as np\n",
    "import pandas as pd\n",
    "import plotly.express as px\n",
    "import random\n",
    "import string\n",
    "import torch.nn as nn\n",
    "import torch.nn.functional as F\n",
    "import torch.optim as optim\n",
    "import torch_geometric.transforms as T\n",
    "\n",
    "from plotly import graph_objs as go\n",
    "from sklearn.decomposition import PCA\n",
    "from sklearn import metrics\n",
    "from sklearn.manifold import TSNE\n",
    "from sklearn.model_selection import ParameterGrid\n",
    "from torch_geometric.data import Data, download_url, extract_gz\n",
    "from torch_geometric.nn import GAE, GCNConv, VGAE\n",
    "from torch_geometric.transforms import RandomLinkSplit\n",
    "from torch_geometric.utils import train_test_split_edges, negative_sampling, degree"
   ]
  },
  {
   "cell_type": "code",
   "execution_count": 3,
   "metadata": {},
   "outputs": [],
   "source": [
    "# set the seeds\n",
    "torch.manual_seed(0)\n",
    "random.seed(0)\n",
    "np.random.seed(0)"
   ]
  },
  {
   "cell_type": "code",
   "execution_count": null,
   "metadata": {},
   "outputs": [],
   "source": [
    "wget https://dgl-data.s3-us-west-2.amazonaws.com/dataset/DRKG/drkg.tar.gz"
   ]
  },
  {
   "cell_type": "code",
   "execution_count": 8,
   "metadata": {},
   "outputs": [
    {
     "name": "stderr",
     "output_type": "stream",
     "text": [
      "Downloading https://dgl-data.s3-us-west-2.amazonaws.com/dataset/DRKG/drkg.tar.gz\n",
      "Extracting ./drkg.tar.gz\n"
     ]
    }
   ],
   "source": [
    "url = 'https://dgl-data.s3-us-west-2.amazonaws.com/dataset/DRKG/drkg.tar.gz'\n",
    "extract_gz(download_url(url, '.'), '.')\n",
    "\n"
   ]
  },
  {
   "cell_type": "code",
   "execution_count": 20,
   "metadata": {},
   "outputs": [
    {
     "name": "stdout",
     "output_type": "stream",
     "text": [
      "tar: drkg.gz: Cannot open: No such file or directory\n",
      "tar: Error is not recoverable: exiting now\n"
     ]
    }
   ],
   "source": [
    "!tar -xf drkg.gz"
   ]
  },
  {
   "cell_type": "code",
   "execution_count": 19,
   "metadata": {},
   "outputs": [
    {
     "data": {
      "text/html": [
       "<div>\n",
       "<style scoped>\n",
       "    .dataframe tbody tr th:only-of-type {\n",
       "        vertical-align: middle;\n",
       "    }\n",
       "\n",
       "    .dataframe tbody tr th {\n",
       "        vertical-align: top;\n",
       "    }\n",
       "\n",
       "    .dataframe thead th {\n",
       "        text-align: right;\n",
       "    }\n",
       "</style>\n",
       "<table border=\"1\" class=\"dataframe\">\n",
       "  <thead>\n",
       "    <tr style=\"text-align: right;\">\n",
       "      <th></th>\n",
       "      <th>Relation-name</th>\n",
       "      <th>Data-source</th>\n",
       "      <th>Connected entity-types</th>\n",
       "      <th>Interaction-type</th>\n",
       "      <th>Description</th>\n",
       "      <th>Reference for the description</th>\n",
       "    </tr>\n",
       "  </thead>\n",
       "  <tbody>\n",
       "    <tr>\n",
       "      <th>0</th>\n",
       "      <td>DGIDB::ACTIVATOR::Gene:Compound</td>\n",
       "      <td>DGIDB</td>\n",
       "      <td>Compound:Gene</td>\n",
       "      <td>activation</td>\n",
       "      <td>An activator interaction is when a drug activa...</td>\n",
       "      <td>http://www.dgidb.org/getting_started</td>\n",
       "    </tr>\n",
       "    <tr>\n",
       "      <th>1</th>\n",
       "      <td>DGIDB::AGONIST::Gene:Compound</td>\n",
       "      <td>DGIDB</td>\n",
       "      <td>Compound:Gene</td>\n",
       "      <td>agonism</td>\n",
       "      <td>An agonist interaction occurs when a drug bind...</td>\n",
       "      <td>http://www.dgidb.org/getting_started</td>\n",
       "    </tr>\n",
       "    <tr>\n",
       "      <th>2</th>\n",
       "      <td>DGIDB::ALLOSTERIC MODULATOR::Gene:Compound</td>\n",
       "      <td>DGIDB</td>\n",
       "      <td>Compound:Gene</td>\n",
       "      <td>allosteric modulation</td>\n",
       "      <td>An allosteric modulator interaction occurs whe...</td>\n",
       "      <td>http://www.dgidb.org/getting_started</td>\n",
       "    </tr>\n",
       "    <tr>\n",
       "      <th>3</th>\n",
       "      <td>DGIDB::ANTAGONIST::Gene:Compound</td>\n",
       "      <td>DGIDB</td>\n",
       "      <td>Compound:Gene</td>\n",
       "      <td>antagonism</td>\n",
       "      <td>An antagonist interaction occurs when a drug b...</td>\n",
       "      <td>http://www.dgidb.org/getting_started</td>\n",
       "    </tr>\n",
       "    <tr>\n",
       "      <th>4</th>\n",
       "      <td>DGIDB::ANTIBODY::Gene:Compound</td>\n",
       "      <td>DGIDB</td>\n",
       "      <td>Compound:Gene</td>\n",
       "      <td>antibody</td>\n",
       "      <td>An antibody interaction occurs when an antibod...</td>\n",
       "      <td>http://www.dgidb.org/getting_started</td>\n",
       "    </tr>\n",
       "    <tr>\n",
       "      <th>...</th>\n",
       "      <td>...</td>\n",
       "      <td>...</td>\n",
       "      <td>...</td>\n",
       "      <td>...</td>\n",
       "      <td>...</td>\n",
       "      <td>...</td>\n",
       "    </tr>\n",
       "    <tr>\n",
       "      <th>102</th>\n",
       "      <td>bioarx::Covid2_acc_host_gene::Disease:Gene</td>\n",
       "      <td>BIBLIOGRAPHY</td>\n",
       "      <td>Disease:Gene</td>\n",
       "      <td>interaction</td>\n",
       "      <td>Interactions between 27 viral  proteins,  and ...</td>\n",
       "      <td>NaN</td>\n",
       "    </tr>\n",
       "    <tr>\n",
       "      <th>103</th>\n",
       "      <td>bioarx::DrugHumGen:Compound:Gene</td>\n",
       "      <td>BIBLIOGRAPHY</td>\n",
       "      <td>Compound:Gene</td>\n",
       "      <td>interaction</td>\n",
       "      <td>NaN</td>\n",
       "      <td>NaN</td>\n",
       "    </tr>\n",
       "    <tr>\n",
       "      <th>104</th>\n",
       "      <td>bioarx::DrugVirGen:Compound:Gene</td>\n",
       "      <td>BIBLIOGRAPHY</td>\n",
       "      <td>Compound:Gene</td>\n",
       "      <td>interaction</td>\n",
       "      <td>NaN</td>\n",
       "      <td>NaN</td>\n",
       "    </tr>\n",
       "    <tr>\n",
       "      <th>105</th>\n",
       "      <td>bioarx::HumGenHumGen:Gene:Gene</td>\n",
       "      <td>BIBLIOGRAPHY</td>\n",
       "      <td>Gene:Gene</td>\n",
       "      <td>interaction</td>\n",
       "      <td>Protein-protein interaction</td>\n",
       "      <td>NaN</td>\n",
       "    </tr>\n",
       "    <tr>\n",
       "      <th>106</th>\n",
       "      <td>bioarx::VirGenHumGen:Gene:Gene</td>\n",
       "      <td>BIBLIOGRAPHY</td>\n",
       "      <td>Gene:Gene</td>\n",
       "      <td>interaction</td>\n",
       "      <td>Protein-protein interaction</td>\n",
       "      <td>NaN</td>\n",
       "    </tr>\n",
       "  </tbody>\n",
       "</table>\n",
       "<p>107 rows × 6 columns</p>\n",
       "</div>"
      ],
      "text/plain": [
       "                                  Relation-name   Data-source  \\\n",
       "0               DGIDB::ACTIVATOR::Gene:Compound         DGIDB   \n",
       "1                 DGIDB::AGONIST::Gene:Compound         DGIDB   \n",
       "2    DGIDB::ALLOSTERIC MODULATOR::Gene:Compound         DGIDB   \n",
       "3              DGIDB::ANTAGONIST::Gene:Compound         DGIDB   \n",
       "4                DGIDB::ANTIBODY::Gene:Compound         DGIDB   \n",
       "..                                          ...           ...   \n",
       "102  bioarx::Covid2_acc_host_gene::Disease:Gene  BIBLIOGRAPHY   \n",
       "103            bioarx::DrugHumGen:Compound:Gene  BIBLIOGRAPHY   \n",
       "104            bioarx::DrugVirGen:Compound:Gene  BIBLIOGRAPHY   \n",
       "105              bioarx::HumGenHumGen:Gene:Gene  BIBLIOGRAPHY   \n",
       "106              bioarx::VirGenHumGen:Gene:Gene  BIBLIOGRAPHY   \n",
       "\n",
       "    Connected entity-types       Interaction-type  \\\n",
       "0            Compound:Gene             activation   \n",
       "1            Compound:Gene                agonism   \n",
       "2            Compound:Gene  allosteric modulation   \n",
       "3            Compound:Gene             antagonism   \n",
       "4            Compound:Gene               antibody   \n",
       "..                     ...                    ...   \n",
       "102           Disease:Gene            interaction   \n",
       "103          Compound:Gene            interaction   \n",
       "104          Compound:Gene            interaction   \n",
       "105              Gene:Gene            interaction   \n",
       "106              Gene:Gene            interaction   \n",
       "\n",
       "                                           Description  \\\n",
       "0    An activator interaction is when a drug activa...   \n",
       "1    An agonist interaction occurs when a drug bind...   \n",
       "2    An allosteric modulator interaction occurs whe...   \n",
       "3    An antagonist interaction occurs when a drug b...   \n",
       "4    An antibody interaction occurs when an antibod...   \n",
       "..                                                 ...   \n",
       "102  Interactions between 27 viral  proteins,  and ...   \n",
       "103                                                NaN   \n",
       "104                                                NaN   \n",
       "105                        Protein-protein interaction   \n",
       "106                        Protein-protein interaction   \n",
       "\n",
       "            Reference for the description  \n",
       "0    http://www.dgidb.org/getting_started  \n",
       "1    http://www.dgidb.org/getting_started  \n",
       "2    http://www.dgidb.org/getting_started  \n",
       "3    http://www.dgidb.org/getting_started  \n",
       "4    http://www.dgidb.org/getting_started  \n",
       "..                                    ...  \n",
       "102                                   NaN  \n",
       "103                                   NaN  \n",
       "104                                   NaN  \n",
       "105                                   NaN  \n",
       "106                                   NaN  \n",
       "\n",
       "[107 rows x 6 columns]"
      ]
     },
     "execution_count": 19,
     "metadata": {},
     "output_type": "execute_result"
    }
   ],
   "source": [
    "data_path = \"/home/chirayu.tripathi/drug_repurpose/relation_glossary.tsv\"\n",
    "df_relation = pd.read_csv(data_path, sep=\"\\t\")\n",
    "df_relation"
   ]
  },
  {
   "cell_type": "code",
   "execution_count": 20,
   "metadata": {},
   "outputs": [
    {
     "data": {
      "text/plain": [
       "array(['Compound:Gene', 'Compound:Compound', 'ATC:Compound',\n",
       "       'Compound:Disease', 'Gene:Gene', 'Disease:Gene', 'Gene:Tax',\n",
       "       'Anatomy:Gene', 'Compound:Side Effect', 'Anatomy:Disease',\n",
       "       'Disease:Symptom', 'Diisease:Disease', 'Biological Process:Gene',\n",
       "       'Cellular Component:Gene', 'Gene:Molecular Function',\n",
       "       'Gene:Pathway', 'Compound:Pharmacologic Class'], dtype=object)"
      ]
     },
     "execution_count": 20,
     "metadata": {},
     "output_type": "execute_result"
    }
   ],
   "source": [
    "df_relation['Connected entity-types'].unique()"
   ]
  },
  {
   "cell_type": "code",
   "execution_count": 21,
   "metadata": {},
   "outputs": [],
   "source": [
    "# df['Connected entity-types'].unique()"
   ]
  },
  {
   "cell_type": "code",
   "execution_count": 6,
   "metadata": {},
   "outputs": [
    {
     "data": {
      "text/html": [
       "<div>\n",
       "<style scoped>\n",
       "    .dataframe tbody tr th:only-of-type {\n",
       "        vertical-align: middle;\n",
       "    }\n",
       "\n",
       "    .dataframe tbody tr th {\n",
       "        vertical-align: top;\n",
       "    }\n",
       "\n",
       "    .dataframe thead th {\n",
       "        text-align: right;\n",
       "    }\n",
       "</style>\n",
       "<table border=\"1\" class=\"dataframe\">\n",
       "  <thead>\n",
       "    <tr style=\"text-align: right;\">\n",
       "      <th></th>\n",
       "      <th>Relation-name</th>\n",
       "      <th>Data-source</th>\n",
       "      <th>Connected entity-types</th>\n",
       "      <th>Interaction-type</th>\n",
       "      <th>Description</th>\n",
       "      <th>Reference for the description</th>\n",
       "    </tr>\n",
       "  </thead>\n",
       "  <tbody>\n",
       "    <tr>\n",
       "      <th>24</th>\n",
       "      <td>GNBR::D::Gene:Disease</td>\n",
       "      <td>GNBR</td>\n",
       "      <td>Disease:Gene</td>\n",
       "      <td>drug targets</td>\n",
       "      <td>NaN</td>\n",
       "      <td>NaN</td>\n",
       "    </tr>\n",
       "    <tr>\n",
       "      <th>30</th>\n",
       "      <td>GNBR::G::Gene:Disease</td>\n",
       "      <td>GNBR</td>\n",
       "      <td>Disease:Gene</td>\n",
       "      <td>promotes progression</td>\n",
       "      <td>NaN</td>\n",
       "      <td>NaN</td>\n",
       "    </tr>\n",
       "    <tr>\n",
       "      <th>34</th>\n",
       "      <td>GNBR::J::Gene:Disease</td>\n",
       "      <td>GNBR</td>\n",
       "      <td>Disease:Gene</td>\n",
       "      <td>role in pathogenesis</td>\n",
       "      <td>NaN</td>\n",
       "      <td>NaN</td>\n",
       "    </tr>\n",
       "    <tr>\n",
       "      <th>36</th>\n",
       "      <td>GNBR::L::Gene:Disease</td>\n",
       "      <td>GNBR</td>\n",
       "      <td>Disease:Gene</td>\n",
       "      <td>improper regulation linked to disease</td>\n",
       "      <td>NaN</td>\n",
       "      <td>NaN</td>\n",
       "    </tr>\n",
       "    <tr>\n",
       "      <th>37</th>\n",
       "      <td>GNBR::Md::Gene:Disease</td>\n",
       "      <td>GNBR</td>\n",
       "      <td>Disease:Gene</td>\n",
       "      <td>biomarkers (diagnostic)</td>\n",
       "      <td>NaN</td>\n",
       "      <td>NaN</td>\n",
       "    </tr>\n",
       "    <tr>\n",
       "      <th>47</th>\n",
       "      <td>GNBR::Te::Gene:Disease</td>\n",
       "      <td>GNBR</td>\n",
       "      <td>Disease:Gene</td>\n",
       "      <td>possible therapeutic effect</td>\n",
       "      <td>NaN</td>\n",
       "      <td>NaN</td>\n",
       "    </tr>\n",
       "    <tr>\n",
       "      <th>48</th>\n",
       "      <td>GNBR::U::Gene:Disease</td>\n",
       "      <td>GNBR</td>\n",
       "      <td>Disease:Gene</td>\n",
       "      <td>causal mutations</td>\n",
       "      <td>NaN</td>\n",
       "      <td>NaN</td>\n",
       "    </tr>\n",
       "    <tr>\n",
       "      <th>49</th>\n",
       "      <td>GNBR::Ud::Gene:Disease</td>\n",
       "      <td>GNBR</td>\n",
       "      <td>Disease:Gene</td>\n",
       "      <td>mutations affecting disease course</td>\n",
       "      <td>NaN</td>\n",
       "      <td>NaN</td>\n",
       "    </tr>\n",
       "    <tr>\n",
       "      <th>52</th>\n",
       "      <td>GNBR::X::Gene:Disease</td>\n",
       "      <td>GNBR</td>\n",
       "      <td>Disease:Gene</td>\n",
       "      <td>overexpression in disease</td>\n",
       "      <td>NaN</td>\n",
       "      <td>NaN</td>\n",
       "    </tr>\n",
       "    <tr>\n",
       "      <th>53</th>\n",
       "      <td>GNBR::Y::Gene:Disease</td>\n",
       "      <td>GNBR</td>\n",
       "      <td>Disease:Gene</td>\n",
       "      <td>polymorphisms alter risk</td>\n",
       "      <td>NaN</td>\n",
       "      <td>NaN</td>\n",
       "    </tr>\n",
       "    <tr>\n",
       "      <th>66</th>\n",
       "      <td>Hetionet::DaG::Disease:Gene</td>\n",
       "      <td>HETIONET</td>\n",
       "      <td>Disease:Gene</td>\n",
       "      <td>association</td>\n",
       "      <td>NaN</td>\n",
       "      <td>NaN</td>\n",
       "    </tr>\n",
       "    <tr>\n",
       "      <th>67</th>\n",
       "      <td>Hetionet::DdG::Disease:Gene</td>\n",
       "      <td>HETIONET</td>\n",
       "      <td>Disease:Gene</td>\n",
       "      <td>downregulation</td>\n",
       "      <td>NaN</td>\n",
       "      <td>NaN</td>\n",
       "    </tr>\n",
       "    <tr>\n",
       "      <th>71</th>\n",
       "      <td>Hetionet::DuG::Disease:Gene</td>\n",
       "      <td>HETIONET</td>\n",
       "      <td>Disease:Gene</td>\n",
       "      <td>upregulation</td>\n",
       "      <td>NaN</td>\n",
       "      <td>NaN</td>\n",
       "    </tr>\n",
       "    <tr>\n",
       "      <th>101</th>\n",
       "      <td>bioarx::Coronavirus_ass_host_gene::Disease:Gene</td>\n",
       "      <td>BIBLIOGRAPHY</td>\n",
       "      <td>Disease:Gene</td>\n",
       "      <td>interaction</td>\n",
       "      <td>Interactions between the 6 Covid-19 related  d...</td>\n",
       "      <td>NaN</td>\n",
       "    </tr>\n",
       "    <tr>\n",
       "      <th>102</th>\n",
       "      <td>bioarx::Covid2_acc_host_gene::Disease:Gene</td>\n",
       "      <td>BIBLIOGRAPHY</td>\n",
       "      <td>Disease:Gene</td>\n",
       "      <td>interaction</td>\n",
       "      <td>Interactions between 27 viral  proteins,  and ...</td>\n",
       "      <td>NaN</td>\n",
       "    </tr>\n",
       "  </tbody>\n",
       "</table>\n",
       "</div>"
      ],
      "text/plain": [
       "                                       Relation-name   Data-source  \\\n",
       "24                             GNBR::D::Gene:Disease          GNBR   \n",
       "30                             GNBR::G::Gene:Disease          GNBR   \n",
       "34                             GNBR::J::Gene:Disease          GNBR   \n",
       "36                             GNBR::L::Gene:Disease          GNBR   \n",
       "37                            GNBR::Md::Gene:Disease          GNBR   \n",
       "47                            GNBR::Te::Gene:Disease          GNBR   \n",
       "48                             GNBR::U::Gene:Disease          GNBR   \n",
       "49                            GNBR::Ud::Gene:Disease          GNBR   \n",
       "52                             GNBR::X::Gene:Disease          GNBR   \n",
       "53                             GNBR::Y::Gene:Disease          GNBR   \n",
       "66                       Hetionet::DaG::Disease:Gene      HETIONET   \n",
       "67                       Hetionet::DdG::Disease:Gene      HETIONET   \n",
       "71                       Hetionet::DuG::Disease:Gene      HETIONET   \n",
       "101  bioarx::Coronavirus_ass_host_gene::Disease:Gene  BIBLIOGRAPHY   \n",
       "102       bioarx::Covid2_acc_host_gene::Disease:Gene  BIBLIOGRAPHY   \n",
       "\n",
       "    Connected entity-types                       Interaction-type  \\\n",
       "24            Disease:Gene                           drug targets   \n",
       "30            Disease:Gene                   promotes progression   \n",
       "34            Disease:Gene                   role in pathogenesis   \n",
       "36            Disease:Gene  improper regulation linked to disease   \n",
       "37            Disease:Gene                biomarkers (diagnostic)   \n",
       "47            Disease:Gene            possible therapeutic effect   \n",
       "48            Disease:Gene                       causal mutations   \n",
       "49            Disease:Gene     mutations affecting disease course   \n",
       "52            Disease:Gene              overexpression in disease   \n",
       "53            Disease:Gene               polymorphisms alter risk   \n",
       "66            Disease:Gene                            association   \n",
       "67            Disease:Gene                         downregulation   \n",
       "71            Disease:Gene                           upregulation   \n",
       "101           Disease:Gene                            interaction   \n",
       "102           Disease:Gene                            interaction   \n",
       "\n",
       "                                           Description  \\\n",
       "24                                                 NaN   \n",
       "30                                                 NaN   \n",
       "34                                                 NaN   \n",
       "36                                                 NaN   \n",
       "37                                                 NaN   \n",
       "47                                                 NaN   \n",
       "48                                                 NaN   \n",
       "49                                                 NaN   \n",
       "52                                                 NaN   \n",
       "53                                                 NaN   \n",
       "66                                                 NaN   \n",
       "67                                                 NaN   \n",
       "71                                                 NaN   \n",
       "101  Interactions between the 6 Covid-19 related  d...   \n",
       "102  Interactions between 27 viral  proteins,  and ...   \n",
       "\n",
       "    Reference for the description  \n",
       "24                            NaN  \n",
       "30                            NaN  \n",
       "34                            NaN  \n",
       "36                            NaN  \n",
       "37                            NaN  \n",
       "47                            NaN  \n",
       "48                            NaN  \n",
       "49                            NaN  \n",
       "52                            NaN  \n",
       "53                            NaN  \n",
       "66                            NaN  \n",
       "67                            NaN  \n",
       "71                            NaN  \n",
       "101                           NaN  \n",
       "102                           NaN  "
      ]
     },
     "execution_count": 6,
     "metadata": {},
     "output_type": "execute_result"
    }
   ],
   "source": [
    "df[df['Connected entity-types']=='Disease:Gene']"
   ]
  },
  {
   "cell_type": "code",
   "execution_count": 4,
   "metadata": {},
   "outputs": [],
   "source": [
    "data_path = \"/home/chirayu.tripathi/drug_repurpose/drkg.tsv\"\n",
    "df = pd.read_csv(data_path, sep=\"\\t\")\n",
    "# print(df.head(), '\\n')"
   ]
  },
  {
   "cell_type": "code",
   "execution_count": 5,
   "metadata": {},
   "outputs": [
    {
     "data": {
      "text/plain": [
       "array(['bioarx::HumGenHumGen:Gene:Gene', 'bioarx::VirGenHumGen:Gene:Gene',\n",
       "       'bioarx::DrugVirGen:Compound:Gene',\n",
       "       'bioarx::DrugHumGen:Compound:Gene',\n",
       "       'bioarx::Covid2_acc_host_gene::Disease:Gene',\n",
       "       'bioarx::Coronavirus_ass_host_gene::Disease:Gene',\n",
       "       'DGIDB::INHIBITOR::Gene:Compound',\n",
       "       'DGIDB::ANTAGONIST::Gene:Compound', 'DGIDB::OTHER::Gene:Compound',\n",
       "       'DGIDB::AGONIST::Gene:Compound', 'DGIDB::BINDER::Gene:Compound',\n",
       "       'DGIDB::MODULATOR::Gene:Compound', 'DGIDB::BLOCKER::Gene:Compound',\n",
       "       'DGIDB::CHANNEL BLOCKER::Gene:Compound',\n",
       "       'DGIDB::ANTIBODY::Gene:Compound',\n",
       "       'DGIDB::POSITIVE ALLOSTERIC MODULATOR::Gene:Compound',\n",
       "       'DGIDB::ALLOSTERIC MODULATOR::Gene:Compound',\n",
       "       'DGIDB::ACTIVATOR::Gene:Compound',\n",
       "       'DGIDB::PARTIAL AGONIST::Gene:Compound',\n",
       "       'DRUGBANK::x-atc::Compound:Atc',\n",
       "       'DRUGBANK::ddi-interactor-in::Compound:Compound',\n",
       "       'DRUGBANK::target::Compound:Gene',\n",
       "       'DRUGBANK::enzyme::Compound:Gene',\n",
       "       'DRUGBANK::carrier::Compound:Gene',\n",
       "       'DRUGBANK::treats::Compound:Disease', 'GNBR::E::Compound:Gene',\n",
       "       'GNBR::A+::Compound:Gene', 'GNBR::N::Compound:Gene',\n",
       "       'GNBR::K::Compound:Gene', 'GNBR::A-::Compound:Gene',\n",
       "       'GNBR::E+::Compound:Gene', 'GNBR::B::Compound:Gene',\n",
       "       'GNBR::E-::Compound:Gene', 'GNBR::O::Compound:Gene',\n",
       "       'GNBR::Z::Compound:Gene', 'GNBR::T::Compound:Disease',\n",
       "       'GNBR::C::Compound:Disease', 'GNBR::Sa::Compound:Disease',\n",
       "       'GNBR::Pa::Compound:Disease', 'GNBR::Mp::Compound:Disease',\n",
       "       'GNBR::Pr::Compound:Disease', 'GNBR::J::Compound:Disease',\n",
       "       'GNBR::L::Gene:Disease', 'GNBR::U::Gene:Disease',\n",
       "       'GNBR::Y::Gene:Disease', 'GNBR::J::Gene:Disease',\n",
       "       'GNBR::Te::Gene:Disease', 'GNBR::Md::Gene:Disease',\n",
       "       'GNBR::G::Gene:Disease', 'GNBR::D::Gene:Disease',\n",
       "       'GNBR::X::Gene:Disease', 'GNBR::Ud::Gene:Disease',\n",
       "       'GNBR::V+::Gene:Gene', 'GNBR::Q::Gene:Gene', 'GNBR::Rg::Gene:Gene',\n",
       "       'GNBR::B::Gene:Gene', 'GNBR::I::Gene:Gene', 'GNBR::E+::Gene:Gene',\n",
       "       'GNBR::H::Gene:Gene', 'GNBR::W::Gene:Gene', 'GNBR::E::Gene:Gene',\n",
       "       'GNBR::in_tax::Gene:Tax',\n",
       "       'Hetionet::GpBP::Gene:Biological Process',\n",
       "       'Hetionet::GiG::Gene:Gene', 'Hetionet::CrC::Compound:Compound',\n",
       "       'Hetionet::DdG::Disease:Gene', 'Hetionet::DpS::Disease:Symptom',\n",
       "       'Hetionet::DlA::Disease:Anatomy',\n",
       "       'Hetionet::CtD::Compound:Disease', 'Hetionet::CbG::Compound:Gene',\n",
       "       'Hetionet::CuG::Compound:Gene', 'Hetionet::DrD::Disease:Disease',\n",
       "       'Hetionet::DaG::Disease:Gene', 'Hetionet::CpD::Compound:Disease',\n",
       "       'Hetionet::AdG::Anatomy:Gene', 'Hetionet::AuG::Anatomy:Gene',\n",
       "       'Hetionet::GcG::Gene:Gene',\n",
       "       'Hetionet::GpMF::Gene:Molecular Function',\n",
       "       'Hetionet::PCiC::Pharmacologic Class:Compound',\n",
       "       'Hetionet::GpCC::Gene:Cellular Component',\n",
       "       'Hetionet::Gr>G::Gene:Gene', 'Hetionet::CdG::Compound:Gene',\n",
       "       'Hetionet::DuG::Disease:Gene', 'Hetionet::GpPW::Gene:Pathway',\n",
       "       'Hetionet::CcSE::Compound:Side Effect',\n",
       "       'Hetionet::AeG::Anatomy:Gene',\n",
       "       'INTACT::PHYSICAL ASSOCIATION::Compound:Gene',\n",
       "       'INTACT::DIRECT INTERACTION::Compound:Gene',\n",
       "       'INTACT::ASSOCIATION::Compound:Gene',\n",
       "       'INTACT::ASSOCIATION::Gene:Gene',\n",
       "       'INTACT::PHYSICAL ASSOCIATION::Gene:Gene',\n",
       "       'INTACT::COLOCALIZATION::Gene:Gene',\n",
       "       'INTACT::DEPHOSPHORYLATION REACTION::Gene:Gene',\n",
       "       'INTACT::CLEAVAGE REACTION::Gene:Gene',\n",
       "       'INTACT::DIRECT INTERACTION::Gene:Gene',\n",
       "       'INTACT::PHOSPHORYLATION REACTION::Gene:Gene',\n",
       "       'INTACT::ADP RIBOSYLATION REACTION::Gene:Gene',\n",
       "       'INTACT::UBIQUITINATION REACTION::Gene:Gene',\n",
       "       'INTACT::PROTEIN CLEAVAGE::Gene:Gene',\n",
       "       'STRING::REACTION::Gene:Gene', 'STRING::CATALYSIS::Gene:Gene',\n",
       "       'STRING::ACTIVATION::Gene:Gene', 'STRING::INHIBITION::Gene:Gene',\n",
       "       'STRING::OTHER::Gene:Gene', 'STRING::BINDING::Gene:Gene',\n",
       "       'STRING::PTMOD::Gene:Gene', 'STRING::EXPRESSION::Gene:Gene'],\n",
       "      dtype=object)"
      ]
     },
     "execution_count": 5,
     "metadata": {},
     "output_type": "execute_result"
    }
   ],
   "source": [
    "df['bioarx::HumGenHumGen:Gene:Gene'].unique()"
   ]
  },
  {
   "cell_type": "code",
   "execution_count": 6,
   "metadata": {},
   "outputs": [],
   "source": [
    "def occur(x,count):\n",
    "    if 'bioarx::HumGenHumGen:' in x:\n",
    "        return x[len('bioarx::HumGenHumGen:'):]\n",
    "    if 'bioarx::VirGenHumGen:' in x:\n",
    "        return x[len('bioarx::VirGenHumGen:'):]\n",
    "    if 'bioarx::DrugVirGen:' in x:\n",
    "        return x[len('bioarx::DrugVirGen:'):]\n",
    "    if 'bioarx::DrugHumGen:' in x:\n",
    "        return x[len('bioarx::DrugHumGen:'):]\n",
    "    if x.count('::')<count:\n",
    "        return x\n",
    "    if count==0:\n",
    "        return x\n",
    "    else:\n",
    "        x = x[x.find('::')+2:]\n",
    "        return occur(x,count-1)\n",
    "    "
   ]
  },
  {
   "cell_type": "code",
   "execution_count": 70,
   "metadata": {},
   "outputs": [
    {
     "data": {
      "text/plain": [
       "'Gene:Gene'"
      ]
     },
     "execution_count": 70,
     "metadata": {},
     "output_type": "execute_result"
    }
   ],
   "source": [
    "st = 'bioarx::HumGenHumGen:Gene:Gene'\n",
    "occur(st,2)"
   ]
  },
  {
   "cell_type": "code",
   "execution_count": 7,
   "metadata": {},
   "outputs": [],
   "source": [
    "df[(df['bioarx::HumGenHumGen:Gene:Gene'].str.contains('Compound:Gene'))]\n",
    "df['category'] = df['bioarx::HumGenHumGen:Gene:Gene'].apply(lambda x: occur(x,2))"
   ]
  },
  {
   "cell_type": "code",
   "execution_count": 8,
   "metadata": {},
   "outputs": [
    {
     "data": {
      "text/html": [
       "<div>\n",
       "<style scoped>\n",
       "    .dataframe tbody tr th:only-of-type {\n",
       "        vertical-align: middle;\n",
       "    }\n",
       "\n",
       "    .dataframe tbody tr th {\n",
       "        vertical-align: top;\n",
       "    }\n",
       "\n",
       "    .dataframe thead th {\n",
       "        text-align: right;\n",
       "    }\n",
       "</style>\n",
       "<table border=\"1\" class=\"dataframe\">\n",
       "  <thead>\n",
       "    <tr style=\"text-align: right;\">\n",
       "      <th></th>\n",
       "      <th>Gene::2157</th>\n",
       "      <th>bioarx::HumGenHumGen:Gene:Gene</th>\n",
       "      <th>Gene::2157.1</th>\n",
       "      <th>category</th>\n",
       "    </tr>\n",
       "  </thead>\n",
       "  <tbody>\n",
       "    <tr>\n",
       "      <th>0</th>\n",
       "      <td>Gene::2157</td>\n",
       "      <td>bioarx::HumGenHumGen:Gene:Gene</td>\n",
       "      <td>Gene::5264</td>\n",
       "      <td>Gene:Gene</td>\n",
       "    </tr>\n",
       "    <tr>\n",
       "      <th>1</th>\n",
       "      <td>Gene::2157</td>\n",
       "      <td>bioarx::HumGenHumGen:Gene:Gene</td>\n",
       "      <td>Gene::2158</td>\n",
       "      <td>Gene:Gene</td>\n",
       "    </tr>\n",
       "    <tr>\n",
       "      <th>2</th>\n",
       "      <td>Gene::2157</td>\n",
       "      <td>bioarx::HumGenHumGen:Gene:Gene</td>\n",
       "      <td>Gene::3309</td>\n",
       "      <td>Gene:Gene</td>\n",
       "    </tr>\n",
       "    <tr>\n",
       "      <th>3</th>\n",
       "      <td>Gene::2157</td>\n",
       "      <td>bioarx::HumGenHumGen:Gene:Gene</td>\n",
       "      <td>Gene::28912</td>\n",
       "      <td>Gene:Gene</td>\n",
       "    </tr>\n",
       "    <tr>\n",
       "      <th>4</th>\n",
       "      <td>Gene::2157</td>\n",
       "      <td>bioarx::HumGenHumGen:Gene:Gene</td>\n",
       "      <td>Gene::811</td>\n",
       "      <td>Gene:Gene</td>\n",
       "    </tr>\n",
       "    <tr>\n",
       "      <th>...</th>\n",
       "      <td>...</td>\n",
       "      <td>...</td>\n",
       "      <td>...</td>\n",
       "      <td>...</td>\n",
       "    </tr>\n",
       "    <tr>\n",
       "      <th>5874255</th>\n",
       "      <td>Gene::29099</td>\n",
       "      <td>STRING::REACTION::Gene:Gene</td>\n",
       "      <td>Gene::1643</td>\n",
       "      <td>Gene:Gene</td>\n",
       "    </tr>\n",
       "    <tr>\n",
       "      <th>5874256</th>\n",
       "      <td>Gene::51645</td>\n",
       "      <td>STRING::REACTION::Gene:Gene</td>\n",
       "      <td>Gene::3183</td>\n",
       "      <td>Gene:Gene</td>\n",
       "    </tr>\n",
       "    <tr>\n",
       "      <th>5874257</th>\n",
       "      <td>Gene::865</td>\n",
       "      <td>STRING::CATALYSIS::Gene:Gene</td>\n",
       "      <td>Gene::983</td>\n",
       "      <td>Gene:Gene</td>\n",
       "    </tr>\n",
       "    <tr>\n",
       "      <th>5874258</th>\n",
       "      <td>Gene::1066</td>\n",
       "      <td>STRING::BINDING::Gene:Gene</td>\n",
       "      <td>Gene::7365</td>\n",
       "      <td>Gene:Gene</td>\n",
       "    </tr>\n",
       "    <tr>\n",
       "      <th>5874259</th>\n",
       "      <td>Gene::6118</td>\n",
       "      <td>STRING::BINDING::Gene:Gene</td>\n",
       "      <td>Gene::1111</td>\n",
       "      <td>Gene:Gene</td>\n",
       "    </tr>\n",
       "  </tbody>\n",
       "</table>\n",
       "<p>5874260 rows × 4 columns</p>\n",
       "</div>"
      ],
      "text/plain": [
       "          Gene::2157  bioarx::HumGenHumGen:Gene:Gene Gene::2157.1   category\n",
       "0         Gene::2157  bioarx::HumGenHumGen:Gene:Gene   Gene::5264  Gene:Gene\n",
       "1         Gene::2157  bioarx::HumGenHumGen:Gene:Gene   Gene::2158  Gene:Gene\n",
       "2         Gene::2157  bioarx::HumGenHumGen:Gene:Gene   Gene::3309  Gene:Gene\n",
       "3         Gene::2157  bioarx::HumGenHumGen:Gene:Gene  Gene::28912  Gene:Gene\n",
       "4         Gene::2157  bioarx::HumGenHumGen:Gene:Gene    Gene::811  Gene:Gene\n",
       "...              ...                             ...          ...        ...\n",
       "5874255  Gene::29099     STRING::REACTION::Gene:Gene   Gene::1643  Gene:Gene\n",
       "5874256  Gene::51645     STRING::REACTION::Gene:Gene   Gene::3183  Gene:Gene\n",
       "5874257    Gene::865    STRING::CATALYSIS::Gene:Gene    Gene::983  Gene:Gene\n",
       "5874258   Gene::1066      STRING::BINDING::Gene:Gene   Gene::7365  Gene:Gene\n",
       "5874259   Gene::6118      STRING::BINDING::Gene:Gene   Gene::1111  Gene:Gene\n",
       "\n",
       "[5874260 rows x 4 columns]"
      ]
     },
     "execution_count": 8,
     "metadata": {},
     "output_type": "execute_result"
    }
   ],
   "source": [
    "df"
   ]
  },
  {
   "cell_type": "code",
   "execution_count": 9,
   "metadata": {},
   "outputs": [],
   "source": [
    "nodes = df['category'].unique()"
   ]
  },
  {
   "cell_type": "code",
   "execution_count": 10,
   "metadata": {},
   "outputs": [],
   "source": [
    "li = []\n",
    "for i in nodes:\n",
    "    li = li+i.split(':')"
   ]
  },
  {
   "cell_type": "code",
   "execution_count": 11,
   "metadata": {},
   "outputs": [],
   "source": [
    "nodes_category = set(li)"
   ]
  },
  {
   "cell_type": "code",
   "execution_count": 12,
   "metadata": {},
   "outputs": [
    {
     "data": {
      "text/plain": [
       "{'Anatomy',\n",
       " 'Atc',\n",
       " 'Biological Process',\n",
       " 'Cellular Component',\n",
       " 'Compound',\n",
       " 'Disease',\n",
       " 'Gene',\n",
       " 'Molecular Function',\n",
       " 'Pathway',\n",
       " 'Pharmacologic Class',\n",
       " 'Side Effect',\n",
       " 'Symptom',\n",
       " 'Tax'}"
      ]
     },
     "execution_count": 12,
     "metadata": {},
     "output_type": "execute_result"
    }
   ],
   "source": [
    "nodes_category"
   ]
  },
  {
   "cell_type": "code",
   "execution_count": 13,
   "metadata": {},
   "outputs": [],
   "source": [
    "# sub_graph='nan'\n",
    "# sub_graph"
   ]
  },
  {
   "cell_type": "code",
   "execution_count": 14,
   "metadata": {},
   "outputs": [],
   "source": [
    "combination_graph = pd.DataFrame({'source_node':[],'destination_node':[],'category':[]})\n",
    "combination_graph['source_node'] = df['Gene::2157']\n",
    "combination_graph['destination_node'] = df['Gene::2157.1']\n",
    "combination_graph['category'] = df['category']"
   ]
  },
  {
   "cell_type": "code",
   "execution_count": 75,
   "metadata": {},
   "outputs": [
    {
     "data": {
      "text/plain": [
       "array(['Gene:Gene', 'Compound:Gene', 'Disease:Gene', 'Gene:Compound',\n",
       "       'Compound:Atc', 'Compound:Compound', 'Compound:Disease',\n",
       "       'Gene:Disease', 'Gene:Tax', 'Gene:Biological Process',\n",
       "       'Disease:Symptom', 'Disease:Anatomy', 'Disease:Disease',\n",
       "       'Anatomy:Gene', 'Gene:Molecular Function',\n",
       "       'Pharmacologic Class:Compound', 'Gene:Cellular Component',\n",
       "       'Gene:Pathway', 'Compound:Side Effect'], dtype=object)"
      ]
     },
     "execution_count": 75,
     "metadata": {},
     "output_type": "execute_result"
    }
   ],
   "source": [
    "combination_graph['category'].unique()"
   ]
  },
  {
   "cell_type": "code",
   "execution_count": 16,
   "metadata": {},
   "outputs": [],
   "source": [
    "node_count = {}\n",
    "for i in nodes_category:\n",
    "    seta = list(combination_graph[(combination_graph['source_node'].str.contains(i))]['source_node'].unique())\n",
    "    setb = list(combination_graph[(combination_graph['destination_node'].str.contains(i))]['destination_node'].unique())\n",
    "    length = len(set(seta+setb))\n",
    "    node_count[i] = length\n",
    "# combination_graph[(combination_graph['destination_node'].str.contains('Gene'))]['destination_node'].unique()"
   ]
  },
  {
   "cell_type": "code",
   "execution_count": 17,
   "metadata": {},
   "outputs": [
    {
     "data": {
      "text/plain": [
       "{'Cellular Component': 1391,\n",
       " 'Disease': 5103,\n",
       " 'Pathway': 1822,\n",
       " 'Compound': 24313,\n",
       " 'Atc': 4048,\n",
       " 'Anatomy': 400,\n",
       " 'Pharmacologic Class': 345,\n",
       " 'Gene': 39220,\n",
       " 'Symptom': 415,\n",
       " 'Side Effect': 5701,\n",
       " 'Tax': 215,\n",
       " 'Biological Process': 11381,\n",
       " 'Molecular Function': 2884}"
      ]
     },
     "execution_count": 17,
     "metadata": {},
     "output_type": "execute_result"
    }
   ],
   "source": [
    "node_count"
   ]
  },
  {
   "cell_type": "code",
   "execution_count": 18,
   "metadata": {},
   "outputs": [
    {
     "name": "stdout",
     "output_type": "stream",
     "text": [
      "97238\n"
     ]
    }
   ],
   "source": [
    "sumi = 0\n",
    "for i in node_count:\n",
    "    sumi+=node_count[i]\n",
    "print(sumi)"
   ]
  },
  {
   "cell_type": "code",
   "execution_count": 19,
   "metadata": {},
   "outputs": [],
   "source": [
    "# len(sub_graph['Disease_id'].unique()),len(sub_graph['Compound_id'].unique())"
   ]
  },
  {
   "cell_type": "code",
   "execution_count": 20,
   "metadata": {},
   "outputs": [],
   "source": [
    "def load_node_mapping(df, source_node, destination_node, nodes_category, node_count):\n",
    "\n",
    "#   df = pd.read_csv(datafile_path, index_col=index_col, sep=\"\\t\")\n",
    "#   seta = list(df[(df[source_node].str.contains(category))][source_node].unique())\n",
    "#   setb = list(df[(df[destination_node].str.contains(category))][destination_node].unique())\n",
    "#   nodes = list(set(seta+setb))\n",
    "#   mapping = {index_id: i + offset for i, index_id in enumerate(nodes)}\n",
    "    mapping = {}\n",
    "    offset = 0\n",
    "    for i in nodes_category:\n",
    "        seta = list(df[(df[source_node].str.contains(i))][source_node].unique())\n",
    "        setb = list(df[(df[destination_node].str.contains(i))][destination_node].unique())\n",
    "        nodes = list(set(seta+setb))\n",
    "        temp = {index_id: j + offset for j, index_id in enumerate(nodes)}\n",
    "        offset += node_count[i]\n",
    "        mapping[i] = temp\n",
    "#   print(mapping)\n",
    "    return mapping\n",
    "\n",
    "def load_edge_list(df, src_col, dst_col, mapping, nodes_category):\n",
    "\n",
    "#   df = pd.read_csv(datafile_path, sep=\"\\t\")\n",
    "    \n",
    "#   src_nodes = [src_mapping[index] for index in df[src_col]]\n",
    "#   dst_nodes = [dst_mapping[index] for index in df[dst_col]]\n",
    "#   edge_index = torch.tensor([src_nodes, dst_nodes])\n",
    "    src_nodes = []\n",
    "    for i in df[src_col]:\n",
    "        for j in nodes_category:\n",
    "            if j in i:\n",
    "                src_nodes.append(mapping[j][i])\n",
    "                break\n",
    "\n",
    "            \n",
    "    dst_nodes = []\n",
    "    for i in df[dst_col]:\n",
    "        for j in nodes_category:\n",
    "            if j in i:\n",
    "                dst_nodes.append(mapping[j][i])\n",
    "                break\n",
    "    print(src_nodes[0:5])\n",
    "    print(dst_nodes[0:5])\n",
    "    edge_index = torch.tensor([src_nodes, dst_nodes])\n",
    "    return edge_index\n",
    "\n",
    "def initialize_data(df, nodes_category, node_count, num_features=1):\n",
    "\n",
    "\n",
    "#   dz_col, compound_col = \"Disease_id\", \"Compound_id\"\n",
    "    source_node, destination_node = \"source_node\", \"destination_node\"\n",
    "    mapping = load_node_mapping(df, source_node, destination_node, nodes_category, node_count)\n",
    "#   compound_mapping = load_node_mapping(df, source_node, destination_node,'Compound', offset=5070)\n",
    "#   gene_mapping = load_node_mapping(df, source_node, destination_node,'Gene', offset=5070+23311)\n",
    "\n",
    "  # Get edge index in terms of the integer indeces assigned to the nodes.\n",
    "    edge_index = load_edge_list(\n",
    "      df, source_node, destination_node, mapping, nodes_category)\n",
    "\n",
    "  # Add the reverse direction (aka make it a undirected graph)\n",
    "    rev_edge_index = load_edge_list(\n",
    "      df, destination_node,  source_node, mapping, nodes_category)\n",
    "    sumi = 0\n",
    "    for i in mapping:\n",
    "        sumi+=len(mapping[i])\n",
    "  # Construct a Data object.\n",
    "    data = Data()\n",
    "    data.num_nodes = sumi\n",
    "    data.edge_index = torch.cat((edge_index, rev_edge_index), dim=1)\n",
    "#   data.edge_index = edge_index\n",
    "  # pretend we have uniform node features\n",
    "    data.x = torch.ones((data.num_nodes, num_features))\n",
    "\n",
    "    return data, mapping"
   ]
  },
  {
   "cell_type": "code",
   "execution_count": 21,
   "metadata": {},
   "outputs": [
    {
     "name": "stdout",
     "output_type": "stream",
     "text": [
      "[44653, 44653, 44653, 44653, 44653]\n",
      "[63034, 47608, 57367, 47520, 60853]\n",
      "[63034, 47608, 57367, 47520, 60853]\n",
      "[44653, 44653, 44653, 44653, 44653]\n",
      "Data(num_nodes=97238, edge_index=[2, 11748520], x=[97238, 1])\n"
     ]
    }
   ],
   "source": [
    "data_object, mapping = initialize_data(combination_graph, nodes_category, node_count)\n",
    "print(data_object)\n",
    "# print(\"Number of Compounds:\", len(compound_mapping))\n",
    "# print(\"Number of Diseases:\", len(dz_mapping))\n",
    "# print(\"Number of Genes:\", len(gene_mapping))"
   ]
  },
  {
   "cell_type": "code",
   "execution_count": 22,
   "metadata": {},
   "outputs": [
    {
     "data": {
      "text/plain": [
       "(44653, 47608)"
      ]
     },
     "execution_count": 22,
     "metadata": {},
     "output_type": "execute_result"
    }
   ],
   "source": [
    "mapping['Gene']['Gene::2157'], mapping['Gene']['Gene::2158']"
   ]
  },
  {
   "cell_type": "code",
   "execution_count": 23,
   "metadata": {},
   "outputs": [
    {
     "data": {
      "text/plain": [
       "5874260.0"
      ]
     },
     "execution_count": 23,
     "metadata": {},
     "output_type": "execute_result"
    }
   ],
   "source": [
    "11748520/2"
   ]
  },
  {
   "cell_type": "code",
   "execution_count": 56,
   "metadata": {},
   "outputs": [
    {
     "data": {
      "text/plain": [
       "{'Cellular Component': 1391,\n",
       " 'Disease': 5103,\n",
       " 'Pathway': 1822,\n",
       " 'Compound': 24313,\n",
       " 'Atc': 4048,\n",
       " 'Anatomy': 400,\n",
       " 'Pharmacologic Class': 345,\n",
       " 'Gene': 39220,\n",
       " 'Symptom': 415,\n",
       " 'Side Effect': 5701,\n",
       " 'Tax': 215,\n",
       " 'Biological Process': 11381,\n",
       " 'Molecular Function': 2884}"
      ]
     },
     "execution_count": 56,
     "metadata": {},
     "output_type": "execute_result"
    }
   ],
   "source": [
    "node_count"
   ]
  },
  {
   "cell_type": "code",
   "execution_count": 57,
   "metadata": {},
   "outputs": [
    {
     "name": "stdout",
     "output_type": "stream",
     "text": [
      "Cellular Component   0   1390\n",
      "Disease   1391   6493\n",
      "Pathway   6494   8315\n",
      "Compound   8316   32628\n",
      "Atc   32629   36676\n",
      "Anatomy   36677   37076\n",
      "Pharmacologic Class   37077   37421\n",
      "Gene   37422   76641\n",
      "Symptom   76642   77056\n",
      "Side Effect   77057   82757\n",
      "Tax   82758   82972\n",
      "Biological Process   82973   94353\n",
      "Molecular Function   94354   97237\n"
     ]
    }
   ],
   "source": [
    "for i in mapping:\n",
    "    print(i,' ',list(mapping[i].values())[0],' ',list(mapping[i].values())[-1])"
   ]
  },
  {
   "cell_type": "code",
   "execution_count": 26,
   "metadata": {},
   "outputs": [],
   "source": [
    "# compound_mapping"
   ]
  },
  {
   "cell_type": "code",
   "execution_count": 113,
   "metadata": {},
   "outputs": [],
   "source": [
    "# print(compound_mapping)"
   ]
  },
  {
   "cell_type": "code",
   "execution_count": 114,
   "metadata": {},
   "outputs": [
    {
     "name": "stdout",
     "output_type": "stream",
     "text": [
      "tensor([[23012, 14809, 14809,  ..., 53947, 49702, 46265],\n",
      "        [53846, 38822, 43423,  ..., 19795, 20940,  7501]])\n"
     ]
    }
   ],
   "source": [
    "# compound_mapping\n",
    "# gene_mapping\n",
    "print(data_object.edge_index)"
   ]
  },
  {
   "cell_type": "code",
   "execution_count": 115,
   "metadata": {},
   "outputs": [
    {
     "name": "stdout",
     "output_type": "stream",
     "text": [
      "Disease Nodes of highest degree\n",
      "node_index=1255 node_degree=8156 Disease::MESH:D009369\n",
      "node_index=1905 node_degree=3428 Disease::MESH:D001943\n",
      "node_index=4849 node_degree=2679 Disease::MESH:D006528\n",
      "node_index=1410 node_degree=2677 Disease::MESH:D015179\n",
      "node_index=4859 node_degree=2551 Disease::MESH:D011471\n",
      "node_index=3261 node_degree=2463 Disease::MESH:D008545\n",
      "node_index=2774 node_degree=2400 Disease::MESH:D013274\n",
      "node_index=2990 node_degree=2139 Disease::MESH:D064420\n",
      "node_index=4109 node_degree=2034 Disease::MESH:D010190\n",
      "node_index=4535 node_degree=2007 Disease::MESH:D010051\n",
      "\n",
      "Gene Nodes of highest degree\n",
      "node_index=40762 node_degree=2483 Gene::1576\n",
      "node_index=38590 node_degree=1213 Gene::1565\n",
      "node_index=45346 node_degree=1166 Gene::5243\n",
      "node_index=42487 node_degree=1126 Gene::3630\n",
      "node_index=30086 node_degree=1093 Gene::7124\n",
      "node_index=57504 node_degree=1041 Gene::1559\n",
      "node_index=41510 node_degree=987 Gene::213\n",
      "node_index=29426 node_degree=986 Gene::1544\n",
      "node_index=47233 node_degree=910 Gene::5743\n",
      "node_index=54520 node_degree=833 Gene::1557\n",
      "\n",
      "Compound Nodes of highest degree\n",
      "node_index=5150 node_degree=2164 Compound::DB09341\n",
      "node_index=7699 node_degree=1611 Compound::DB01234\n",
      "node_index=27000 node_degree=1604 Compound::DB01373\n",
      "node_index=14545 node_degree=1438 Compound::CHEBI:33704\n",
      "node_index=26854 node_degree=1378 Compound::DB00898\n",
      "node_index=15185 node_degree=1369 Compound::CHEBI:18186\n",
      "node_index=5443 node_degree=1139 Compound::DB00997\n",
      "node_index=26439 node_degree=1110 Compound::DB09140\n",
      "node_index=26507 node_degree=1090 Compound::MESH:D004967\n",
      "node_index=20648 node_degree=1079 Compound::DB01593\n"
     ]
    }
   ],
   "source": [
    "reverse_dz_mapping = {j: i for i,j in dz_mapping.items()}\n",
    "reverse_gene_mapping = {j: i for i,j in gene_mapping.items()}\n",
    "reverse_compound_mapping = {j: i for i,j in compound_mapping.items()}\n",
    "\n",
    "degrees = degree(data_object.edge_index[0]).numpy()\n",
    "sorted_degrees_i = np.argsort(-1* degrees)\n",
    "\n",
    "print(\"Disease Nodes of highest degree\")\n",
    "top_k = 10\n",
    "num_dz_nodes = 0\n",
    "for i in sorted_degrees_i:\n",
    "  if i < 5070:   \n",
    "    node_id = reverse_dz_mapping[i]\n",
    "    node_degree = degrees[i]\n",
    "    print(\"node_index=\" + str(i), \"node_degree=\" + str(int(node_degree)),\n",
    "          node_id)\n",
    "    num_dz_nodes += 1\n",
    "    if num_dz_nodes >= top_k:\n",
    "      break\n",
    "\n",
    "print(\"\\nGene Nodes of highest degree\")\n",
    "num_gene_nodes = 0\n",
    "for i in sorted_degrees_i:\n",
    "  if i >= 5070+23311:\n",
    "    node_id = reverse_gene_mapping[i]\n",
    "    node_degree = degrees[i]\n",
    "    print(\"node_index=\" + str(i), \"node_degree=\" + str(int(node_degree)), node_id)\n",
    "    num_gene_nodes += 1\n",
    "    if num_gene_nodes >= top_k:\n",
    "      break\n",
    "    \n",
    "print(\"\\nCompound Nodes of highest degree\")\n",
    "num_gene_nodes = 0\n",
    "for i in sorted_degrees_i:\n",
    "  if 5070+23311>i >= 5070:\n",
    "    node_id = reverse_compound_mapping[i]\n",
    "    node_degree = degrees[i]\n",
    "    print(\"node_index=\" + str(i), \"node_degree=\" + str(int(node_degree)), node_id)\n",
    "    num_gene_nodes += 1\n",
    "    if num_gene_nodes >= top_k:\n",
    "      break"
   ]
  },
  {
   "cell_type": "code",
   "execution_count": 28,
   "metadata": {},
   "outputs": [],
   "source": [
    "NUM_FEATURES =   20"
   ]
  },
  {
   "cell_type": "code",
   "execution_count": 29,
   "metadata": {},
   "outputs": [
    {
     "name": "stdout",
     "output_type": "stream",
     "text": [
      "Using dummy embeddings as initial node features.\n",
      "Number of features set to  20\n"
     ]
    }
   ],
   "source": [
    "data_object.x = torch.ones((data_object.num_nodes, NUM_FEATURES))\n",
    "print(\"Using dummy embeddings as initial node features.\")\n",
    "print(\"Number of features set to \", NUM_FEATURES)"
   ]
  },
  {
   "cell_type": "code",
   "execution_count": 30,
   "metadata": {},
   "outputs": [],
   "source": [
    "device = torch.device('cuda' if torch.cuda.is_available() else 'cpu')"
   ]
  },
  {
   "cell_type": "code",
   "execution_count": 31,
   "metadata": {},
   "outputs": [
    {
     "data": {
      "text/plain": [
       "device(type='cuda')"
      ]
     },
     "execution_count": 31,
     "metadata": {},
     "output_type": "execute_result"
    }
   ],
   "source": [
    "device"
   ]
  },
  {
   "cell_type": "code",
   "execution_count": 37,
   "metadata": {},
   "outputs": [
    {
     "name": "stdout",
     "output_type": "stream",
     "text": [
      "Train Data:\n",
      " Data(num_nodes=97238, edge_index=[2, 9404416], x=[97238, 20], pos_edge_label=[4702208], pos_edge_label_index=[2, 4702208], neg_edge_label=[4702208], neg_edge_label_index=[2, 4702208])\n",
      "Validation Data:\n",
      " Data(num_nodes=97238, edge_index=[2, 9404416], x=[97238, 20], pos_edge_label=[293887], pos_edge_label_index=[2, 293887], neg_edge_label=[293887], neg_edge_label_index=[2, 293887])\n",
      "Test Data:\n",
      " Data(num_nodes=97238, edge_index=[2, 9992190], x=[97238, 20], pos_edge_label=[881663], pos_edge_label_index=[2, 881663], neg_edge_label=[881663], neg_edge_label_index=[2, 881663])\n"
     ]
    }
   ],
   "source": [
    "transform = T.Compose([\n",
    "#     T.NormalizeFeatures(),\n",
    "    T.ToDevice(device),\n",
    "    T.RandomLinkSplit(num_val=0.05, num_test=0.15, is_undirected=True,\n",
    "                      split_labels=True, add_negative_train_samples=True),])\n",
    "\n",
    "train_dataset, val_dataset, test_dataset = transform(data_object)\n",
    "print(\"Train Data:\\n\", train_dataset)\n",
    "print(\"Validation Data:\\n\", val_dataset)\n",
    "print(\"Test Data:\\n\", test_dataset)"
   ]
  },
  {
   "cell_type": "code",
   "execution_count": 121,
   "metadata": {},
   "outputs": [],
   "source": [
    "def get_mapping(df):\n",
    "  \n",
    "#   disease_mapping = [index_id for index_id in enumerate(df['Disease_id'].unique())]\n",
    "# #   df = pd.read_csv(data_path, index_col=\"Gene ID\", sep=\"\\t\")\n",
    "#   gene_mapping = [index_id[1] for index_id in enumerate(df['Compound_id'].unique())]\n",
    "  disease_mapping = [i for i in dz_mapping.keys()]\n",
    "  gen_mapping = [i for i in gene_mapping.keys()]\n",
    "  comp_mapping = [i for i in compound_mapping.keys()]\n",
    "  mapping = disease_mapping + gen_mapping + comp_mapping\n",
    "  return mapping\n",
    "\n",
    "def visualize_tsne_embeddings(model, data, title, perplexity=30.0,\n",
    "                              labeled=False, labels=[]):\n",
    "\n",
    "\n",
    "\n",
    "  model.eval()\n",
    "  x = data.x\n",
    "  z = model.encode(x, data.edge_index)\n",
    "  print('z done')\n",
    "\n",
    "  ax1, ax2 = zip(*TSNE(n_components=2, learning_rate='auto', perplexity=perplexity,\n",
    "                       init='random').fit_transform(z.detach().cpu().numpy()))\n",
    "\n",
    "  fig = px.scatter(x=ax1, y=ax2, color=['r']*5070 + ['g']*23311+['b']*31362,\n",
    "                   hover_data=[get_mapping(combination_graph)],\n",
    "                   title=title)\n",
    "\n",
    "  if labeled:\n",
    "    for i in labels:\n",
    "      fig.add_annotation(x=ax1[i], y=ax2[i],\n",
    "                         text=str(i), showarrow=False)\n",
    "  fig.show()\n",
    "\n",
    "def visualize_pca_embeddings(model, data, title, labeled=False, labels=[]):\n",
    "\n",
    "  model.eval()\n",
    "  x = data.x\n",
    "  z = model.encode(x, data.edge_index)\n",
    "\n",
    "  pca = PCA(n_components=2)\n",
    "  components = pca.fit_transform(z.detach().cpu().numpy())\n",
    "  fig = px.scatter(components, x=0, y=1, color=['r']*5070 + ['g']*23311+['b']*31362,\n",
    "                   hover_data=[get_mapping(combination_graph)], title=title)\n",
    "\n",
    "  if labeled:\n",
    "    for i in labels:\n",
    "      fig.add_annotation(x=components[:,0][i], y=components[:,1][i],\n",
    "                         text=str(i), showarrow=False)\n",
    "  fig.show()"
   ]
  },
  {
   "cell_type": "code",
   "execution_count": 122,
   "metadata": {},
   "outputs": [],
   "source": [
    "def plot_roc_curve(model, data):\n",
    "\n",
    "  model.eval()\n",
    "\n",
    "  x = data.x\n",
    "  z = model.encode(x, data.edge_index)\n",
    "\n",
    "  pos_preds = model.decode(z, data.pos_edge_label_index, sigmoid=True)\n",
    "  neg_preds = model.decode(z, data.neg_edge_label_index, sigmoid=True)\n",
    "  preds = torch.cat([pos_preds, neg_preds], dim=0)\n",
    "  preds = preds.detach().cpu().numpy()\n",
    "\n",
    "  labels = torch.cat((data.pos_edge_label, data.neg_edge_label), dim=0)\n",
    "  labels = labels.detach().cpu().numpy()\n",
    "  fpr, tpr, thresholds = metrics.roc_curve(labels, preds)\n",
    "\n",
    "  # Using J-statistic: https://en.wikipedia.org/wiki/Youden%27s_J_statistic\n",
    "  J = tpr - fpr\n",
    "  ix = np.argmax(J)\n",
    "  best_thresh = thresholds[ix]\n",
    "  print('Best Threshold=%f' % (best_thresh))\n",
    "\n",
    "  roc_auc = metrics.roc_auc_score(labels, preds)\n",
    "\n",
    "  plt.plot(fpr, tpr, 'b', label = 'AUC = %0.2f' % roc_auc)\n",
    "  plt.plot([0, 1], [0, 1],'r--') # diagonal roc curve of a random classifier\n",
    "  plt.scatter(fpr[ix], tpr[ix], marker='o', color='black', label='Best=%0.2f' % best_thresh)\n",
    "  plt.xlim(0, 1)\n",
    "  plt.ylim(0, 1)\n",
    "  plt.xlabel('False Positive Rate')\n",
    "  plt.ylabel('True Positive Rate')\n",
    "  plt.legend(loc = 'lower right')\n",
    "  plt.title('ROC curve for model predictions')\n",
    "  plt.show()"
   ]
  },
  {
   "cell_type": "code",
   "execution_count": 123,
   "metadata": {},
   "outputs": [],
   "source": [
    "def plot_training_stats(title, losses, test_auc, test_ap, train_auc, train_ap):\n",
    "\n",
    "  fig, ax = plt.subplots()\n",
    "  ax2 = ax.twinx()\n",
    "\n",
    "  ax.set_xlabel(\"Training Epochs\")\n",
    "  ax2.set_ylabel(\"Performance Metric\")\n",
    "  ax.set_ylabel(\"Loss\")\n",
    "\n",
    "  plt.title(title)\n",
    "  p1, = ax.plot(losses, \"b-\", label=\"training loss\")\n",
    "  p2, = ax2.plot(test_auc, \"r-\", label=\"test AUC\")\n",
    "  p3, = ax2.plot(test_ap, \"g-\", label=\"test AP\")\n",
    "  p4, = ax2.plot(train_auc, \"o-\", label=\"train AUC\")\n",
    "  p5, = ax2.plot(train_ap, \"v-\", label=\"train AP\")\n",
    "  plt.legend(handles=[p1, p2, p3, p4, p5])\n",
    "  plt.show()"
   ]
  },
  {
   "cell_type": "code",
   "execution_count": 65,
   "metadata": {},
   "outputs": [],
   "source": [
    "def get_edge_dot_products(data, model, mapping, node_count):\n",
    "\n",
    "    model.eval()\n",
    "    x = data.x\n",
    "    z = model.encode(x, data.edge_index).detach().cpu().numpy()\n",
    "    print(len(z))\n",
    "    offset = 0\n",
    "    embeddings = {}\n",
    "    for i in mapping:\n",
    "        embeddings[i] = z[offset:offset+node_count[i], :]\n",
    "        offset+=node_count[i]\n",
    "    \n",
    "    \n",
    "    \n",
    "#   dz_z = z[:num_dz_nodes, :]\n",
    "#   com_z = z[num_dz_nodes:num_dz_nodes+num_com_nodes, :]\n",
    "#   gene_z = z[num_dz_nodes+num_com_nodes:, :]\n",
    "#   print(len(dz_z),len(com_z),len(gene_z))\n",
    "# (23311, 5070, 31362)\n",
    "\n",
    "\n",
    "    dot_products_dz_com = np.einsum('ai,bi->ab', embeddings['Disease'], embeddings['Compound'])\n",
    "#   dot_products_com_gene = np.einsum('ai,bi->ab', com_z, gene_z)\n",
    "#   dot_products_gene_dz = np.einsum('ai,bi->ab', gene_z, dz_z)\n",
    "    return dot_products_dz_com  \n",
    "\n",
    "\n",
    "def get_ranked_edges(data_object, model, mapping, node_count):\n",
    "\n",
    "  # Get dot products\n",
    "    dz_com = get_edge_dot_products(data_object, model, mapping, node_count)\n",
    "#   if interaction == 'dz_com':\n",
    "    return get_ranking(dz_com,node_count['Disease'])\n",
    "#   elif interaction == 'com_gene':\n",
    "#         return get_ranking(com_gene,num_com_nodes)\n",
    "#   else:\n",
    "#         return get_ranking(gene_dz,num_gene_nodes)\n",
    "    \n",
    "def get_ranking(edge_dot_products,nodes):\n",
    "\n",
    "      num_possible_edges = edge_dot_products.shape[0] * edge_dot_products.shape[1]\n",
    "\n",
    "      # Get indeces, ranked by dot product in descending order. This is a tuple (indeces[0], indeces[1]).\n",
    "      ranked_edges = np.unravel_index(np.argsort(-1 * edge_dot_products, axis=None), edge_dot_products.shape)\n",
    "      assert len(ranked_edges[0]) == num_possible_edges\n",
    "\n",
    "      # Get the corresponding, ranked edge list and ranked dot products. \n",
    "      # we need to add an offset for the gene_node indeces.\n",
    "      offset = np.array([np.zeros(num_possible_edges, dtype=int), nodes + np.ones(num_possible_edges, dtype=int)]).T\n",
    "      ranked_edge_list = np.dstack(ranked_edges)[0] + offset\n",
    "#       print(ranked_edge_list)\n",
    "      assert ranked_edge_list.shape[0] == num_possible_edges\n",
    "\n",
    "      # Get the corresponding ranked dot products\n",
    "      ranked_dot_products = edge_dot_products[ranked_edges]\n",
    "      assert ranked_dot_products.shape[0] == num_possible_edges\n",
    "\n",
    "      return ranked_edge_list, ranked_dot_products"
   ]
  },
  {
   "cell_type": "markdown",
   "metadata": {},
   "source": [
    "# GAE"
   ]
  },
  {
   "cell_type": "code",
   "execution_count": 32,
   "metadata": {},
   "outputs": [],
   "source": [
    "HIDDEN_SIZE = 200  #@param {type: \"integer\"}\n",
    "\n",
    "OUT_CHANNELS = 20  #@param {type: \"integer\"}\n",
    "\n",
    "EPOCHS =   40#@param {type: \"integer\"}"
   ]
  },
  {
   "cell_type": "code",
   "execution_count": 33,
   "metadata": {},
   "outputs": [],
   "source": [
    "class GCNEncoder(torch.nn.Module):\n",
    "    def __init__(self, in_channels, hidden_size, out_channels, dropout):\n",
    "        super(GCNEncoder, self).__init__()\n",
    "        self.conv1 = GCNConv(in_channels, hidden_size,cached=False) # cached only for transductive learning\n",
    "        self.conv2 = GCNConv(hidden_size, out_channels,cached=False) # cached only for transductive learning\n",
    "        self.dropout = nn.Dropout(dropout)\n",
    "\n",
    "    def forward(self, x, edge_index):\n",
    "        x_temp1 = self.conv1(x, edge_index).relu()\n",
    "        x_temp2 = self.dropout(x_temp1)\n",
    "        return self.conv2(x_temp2, edge_index)\n",
    "\n",
    "    \n",
    "gae_model = GAE(GCNEncoder(NUM_FEATURES, HIDDEN_SIZE, OUT_CHANNELS, 0.5))\n",
    "gae_model = gae_model.to(device)"
   ]
  },
  {
   "cell_type": "code",
   "execution_count": 34,
   "metadata": {},
   "outputs": [
    {
     "data": {
      "text/plain": [
       "GAE(\n",
       "  (encoder): GCNEncoder(\n",
       "    (conv1): GCNConv(20, 200)\n",
       "    (conv2): GCNConv(200, 20)\n",
       "    (dropout): Dropout(p=0.5, inplace=False)\n",
       "  )\n",
       "  (decoder): InnerProductDecoder()\n",
       ")"
      ]
     },
     "execution_count": 34,
     "metadata": {},
     "output_type": "execute_result"
    }
   ],
   "source": [
    "gae_model"
   ]
  },
  {
   "cell_type": "code",
   "execution_count": 35,
   "metadata": {},
   "outputs": [],
   "source": [
    "def gae_train(train_data, gae_model, optimizer):\n",
    "    gae_model.train()\n",
    "    optimizer.zero_grad()\n",
    "    z = gae_model.encode(train_data.x, train_data.edge_index)\n",
    "#     print(z[0])\n",
    "#     print(train_data.pos_edge_label_index.to(device)[0])\n",
    "    loss = gae_model.recon_loss(z, train_data.pos_edge_label_index.to(device))\n",
    "#     print(loss)\n",
    "    loss.backward(retain_graph=True)\n",
    "    optimizer.step()\n",
    "    return float(loss)\n",
    "\n",
    "@torch.no_grad()\n",
    "def gae_test(test_data, gae_model):\n",
    "    gae_model.eval()\n",
    "    z = gae_model.encode(test_data.x, test_data.edge_index)\n",
    "    return gae_model.test(z, test_data.pos_edge_label_index, test_data.neg_edge_label_index)"
   ]
  },
  {
   "cell_type": "code",
   "execution_count": 36,
   "metadata": {},
   "outputs": [],
   "source": [
    "# visualize_tsne_embeddings(gae_model, train_dataset, 'Untrained GAE: train set embeddings t-SNE', labeled=True, labels=[40, 190, 230, 1830, 260, 110, 280, 1967])"
   ]
  },
  {
   "cell_type": "code",
   "execution_count": 60,
   "metadata": {},
   "outputs": [],
   "source": [
    "# visualize_pca_embeddings(gae_model, train_dataset, 'Untrained GAE: train set embeddings PCA', labeled=True, labels=[40, 190, 230, 1830, 260, 110, 280, 1967])"
   ]
  },
  {
   "cell_type": "code",
   "execution_count": 46,
   "metadata": {},
   "outputs": [],
   "source": [
    "\n",
    "# import timeit"
   ]
  },
  {
   "cell_type": "code",
   "execution_count": 38,
   "metadata": {},
   "outputs": [
    {
     "name": "stdout",
     "output_type": "stream",
     "text": [
      "Epoch: 001, test AUC: 0.9623, test AP: 0.9619, train AUC: 0.9600, train AP: 0.9596, loss:1.3751\n",
      "Epoch: 002, test AUC: 0.9624, test AP: 0.9619, train AUC: 0.9600, train AP: 0.9597, loss:1.4338\n",
      "Epoch: 003, test AUC: 0.9624, test AP: 0.9620, train AUC: 0.9601, train AP: 0.9598, loss:1.1325\n",
      "Epoch: 004, test AUC: 0.9624, test AP: 0.9620, train AUC: 0.9600, train AP: 0.9598, loss:1.1138\n",
      "Epoch: 005, test AUC: 0.9624, test AP: 0.9621, train AUC: 0.9600, train AP: 0.9599, loss:1.0951\n",
      "Epoch: 006, test AUC: 0.9624, test AP: 0.9621, train AUC: 0.9600, train AP: 0.9599, loss:1.0718\n",
      "Epoch: 007, test AUC: 0.9624, test AP: 0.9621, train AUC: 0.9600, train AP: 0.9599, loss:1.0704\n",
      "Epoch: 008, test AUC: 0.9624, test AP: 0.9621, train AUC: 0.9600, train AP: 0.9599, loss:1.0680\n",
      "Epoch: 009, test AUC: 0.9623, test AP: 0.9622, train AUC: 0.9599, train AP: 0.9599, loss:1.0722\n",
      "Epoch: 010, test AUC: 0.9623, test AP: 0.9622, train AUC: 0.9599, train AP: 0.9600, loss:1.0694\n",
      "Epoch: 011, test AUC: 0.9623, test AP: 0.9622, train AUC: 0.9599, train AP: 0.9600, loss:1.0642\n",
      "Epoch: 012, test AUC: 0.9622, test AP: 0.9622, train AUC: 0.9598, train AP: 0.9599, loss:1.0651\n",
      "Epoch: 013, test AUC: 0.9621, test AP: 0.9621, train AUC: 0.9597, train AP: 0.9599, loss:1.0591\n",
      "Epoch: 014, test AUC: 0.9620, test AP: 0.9621, train AUC: 0.9596, train AP: 0.9599, loss:1.0580\n",
      "Epoch: 015, test AUC: 0.9619, test AP: 0.9621, train AUC: 0.9594, train AP: 0.9598, loss:1.0518\n",
      "Epoch: 016, test AUC: 0.9617, test AP: 0.9620, train AUC: 0.9592, train AP: 0.9597, loss:1.0515\n",
      "Epoch: 017, test AUC: 0.9614, test AP: 0.9619, train AUC: 0.9590, train AP: 0.9596, loss:1.0453\n",
      "Epoch: 018, test AUC: 0.9611, test AP: 0.9618, train AUC: 0.9586, train AP: 0.9595, loss:1.0449\n",
      "Epoch: 019, test AUC: 0.9608, test AP: 0.9616, train AUC: 0.9583, train AP: 0.9593, loss:1.0372\n",
      "Epoch: 020, test AUC: 0.9603, test AP: 0.9614, train AUC: 0.9578, train AP: 0.9592, loss:1.0350\n",
      "Epoch: 021, test AUC: 0.9598, test AP: 0.9612, train AUC: 0.9572, train AP: 0.9589, loss:1.0267\n",
      "Epoch: 022, test AUC: 0.9590, test AP: 0.9609, train AUC: 0.9564, train AP: 0.9586, loss:1.0237\n",
      "Epoch: 023, test AUC: 0.9580, test AP: 0.9605, train AUC: 0.9554, train AP: 0.9582, loss:1.0141\n",
      "Epoch: 024, test AUC: 0.9569, test AP: 0.9601, train AUC: 0.9543, train AP: 0.9578, loss:1.0146\n",
      "Epoch: 025, test AUC: 0.9559, test AP: 0.9597, train AUC: 0.9532, train AP: 0.9574, loss:1.0058\n",
      "Epoch: 026, test AUC: 0.9548, test AP: 0.9593, train AUC: 0.9520, train AP: 0.9569, loss:1.0082\n",
      "Epoch: 027, test AUC: 0.9538, test AP: 0.9589, train AUC: 0.9510, train AP: 0.9565, loss:1.0016\n",
      "Epoch: 028, test AUC: 0.9530, test AP: 0.9585, train AUC: 0.9501, train AP: 0.9562, loss:0.9947\n",
      "Epoch: 029, test AUC: 0.9522, test AP: 0.9582, train AUC: 0.9493, train AP: 0.9558, loss:0.9959\n",
      "Epoch: 030, test AUC: 0.9513, test AP: 0.9578, train AUC: 0.9485, train AP: 0.9555, loss:0.9855\n",
      "Epoch: 031, test AUC: 0.9501, test AP: 0.9573, train AUC: 0.9472, train AP: 0.9550, loss:0.9830\n",
      "Epoch: 032, test AUC: 0.9482, test AP: 0.9565, train AUC: 0.9454, train AP: 0.9542, loss:0.9836\n",
      "Epoch: 033, test AUC: 0.9465, test AP: 0.9557, train AUC: 0.9438, train AP: 0.9535, loss:0.9766\n",
      "Epoch: 034, test AUC: 0.9454, test AP: 0.9552, train AUC: 0.9427, train AP: 0.9530, loss:0.9755\n",
      "Epoch: 035, test AUC: 0.9453, test AP: 0.9552, train AUC: 0.9427, train AP: 0.9530, loss:0.9702\n",
      "Epoch: 036, test AUC: 0.9447, test AP: 0.9549, train AUC: 0.9421, train AP: 0.9527, loss:0.9693\n",
      "Epoch: 037, test AUC: 0.9431, test AP: 0.9542, train AUC: 0.9406, train AP: 0.9521, loss:0.9648\n",
      "Epoch: 038, test AUC: 0.9414, test AP: 0.9534, train AUC: 0.9390, train AP: 0.9513, loss:0.9622\n",
      "Epoch: 039, test AUC: 0.9394, test AP: 0.9525, train AUC: 0.9371, train AP: 0.9504, loss:0.9621\n"
     ]
    }
   ],
   "source": [
    "# %%timeit\n",
    "# %%time\n",
    "losses = []\n",
    "test_auc = []\n",
    "test_ap = []\n",
    "train_aucs = []\n",
    "train_aps = []\n",
    "\n",
    "\n",
    "optimizer = torch.optim.Adam(gae_model.parameters(), lr=0.01)\n",
    "# def tr():\n",
    "for epoch in range(1, 40):\n",
    "    loss = gae_train(train_dataset, gae_model, optimizer)\n",
    "\n",
    "    losses.append(loss)\n",
    "    auc, ap = gae_test(test_dataset, gae_model)\n",
    "    test_auc.append(auc)\n",
    "    test_ap.append(ap)\n",
    "\n",
    "    train_auc, train_ap = gae_test(train_dataset, gae_model)\n",
    "\n",
    "    train_aucs.append(train_auc)\n",
    "    train_aps.append(train_ap)\n",
    "\n",
    "    print('Epoch: {:03d}, test AUC: {:.4f}, test AP: {:.4f}, train AUC: {:.4f}, train AP: {:.4f}, loss:{:.4f}'.format(epoch, auc, ap, train_auc, train_ap, loss))\n",
    "\n"
   ]
  },
  {
   "cell_type": "code",
   "execution_count": 44,
   "metadata": {},
   "outputs": [],
   "source": [
    "%timeit -r 1 -n 1 tr()"
   ]
  },
  {
   "cell_type": "code",
   "execution_count": 64,
   "metadata": {},
   "outputs": [],
   "source": [
    "# gae_model.eval()\n",
    "# x = data_object.x\n",
    "# z = gae_model.encode(x, data_object.edge_index).detach().cpu().numpy()\n",
    "# print('z done')"
   ]
  },
  {
   "cell_type": "code",
   "execution_count": 104,
   "metadata": {},
   "outputs": [],
   "source": [
    "# visualize_tsne_embeddings(\n",
    "#     gae_model, train_dataset, title='Trained GAE: train set embeddings',\n",
    "#     perplexity=5, labeled=True, labels=[40, 190, 230, 1830, 260, 110, 280, 1967])"
   ]
  },
  {
   "cell_type": "code",
   "execution_count": 39,
   "metadata": {},
   "outputs": [
    {
     "name": "stdout",
     "output_type": "stream",
     "text": [
      "DataObject:\n",
      " Data(num_nodes=97238, edge_index=[2, 11748520], x=[97238, 20])\n",
      "\n",
      "Model:\n",
      " GAE(\n",
      "  (encoder): GCNEncoder(\n",
      "    (conv1): GCNConv(20, 200)\n",
      "    (conv2): GCNConv(200, 20)\n",
      "    (dropout): Dropout(p=0.5, inplace=False)\n",
      "  )\n",
      "  (decoder): InnerProductDecoder()\n",
      ")\n"
     ]
    }
   ],
   "source": [
    "data_object_to_analyze = data_object    \n",
    "model_to_analyze = gae_model            \n",
    "\n",
    "print(\"DataObject:\\n\", data_object_to_analyze)\n",
    "print(\"\\nModel:\\n\", model_to_analyze)"
   ]
  },
  {
   "cell_type": "code",
   "execution_count": 148,
   "metadata": {},
   "outputs": [],
   "source": [
    "def get_edge_dot_products(data, model, mapping, node_count):\n",
    "\n",
    "    model.eval()\n",
    "    x = data.x\n",
    "    z = model.encode(x, data.edge_index).detach().cpu().numpy()\n",
    "    print(len(z))\n",
    "    offset = 0\n",
    "    embeddings = {}\n",
    "    for i in mapping:\n",
    "        \n",
    "        embeddings[i] = z[offset:offset+node_count[i], :]\n",
    "#         print(i,' ', len(embeddings[i]))\n",
    "        offset+=node_count[i]\n",
    "    \n",
    "    \n",
    "    \n",
    "#   dz_z = z[:num_dz_nodes, :]\n",
    "#   com_z = z[num_dz_nodes:num_dz_nodes+num_com_nodes, :]\n",
    "#   gene_z = z[num_dz_nodes+num_com_nodes:, :]\n",
    "#   print(len(dz_z),len(com_z),len(gene_z))\n",
    "# (23311, 5070, 31362)\n",
    "\n",
    "\n",
    "    dot_products_dz_com = np.einsum('ai,bi->ab', embeddings['Disease'], embeddings['Compound'])\n",
    "#   dot_products_com_gene = np.einsum('ai,bi->ab', com_z, gene_z)\n",
    "#   dot_products_gene_dz = np.einsum('ai,bi->ab', gene_z, dz_z)\n",
    "    return dot_products_dz_com  \n",
    "\n",
    "\n",
    "def get_ranked_edges(data_object, model, mapping, node_count):\n",
    "\n",
    "  # Get dot products\n",
    "    dz_com = get_edge_dot_products(data_object, model, mapping, node_count)\n",
    "#   if interaction == 'dz_com':\n",
    "    return get_ranking(dz_com,node_count['Cellular Component'],node_count['Disease']+node_count['Cellular Component']+node_count['Pathway'])\n",
    "#   elif interaction == 'com_gene':\n",
    "#         return get_ranking(com_gene,num_com_nodes)\n",
    "#   else:\n",
    "#         return get_ranking(gene_dz,num_gene_nodes)\n",
    "    \n",
    "def get_ranking(edge_dot_products,disease_pad,nodes):\n",
    "\n",
    "    num_possible_edges = edge_dot_products.shape[0] * edge_dot_products.shape[1]\n",
    "    print(edge_dot_products.shape[0],edge_dot_products.shape[1])\n",
    "    print(edge_dot_products)\n",
    "    # Get indeces, ranked by dot product in descending order. This is a tuple (indeces[0], indeces[1]).\n",
    "    ranked_edges = np.unravel_index(np.argsort(-1 * edge_dot_products, axis=None), edge_dot_products.shape)\n",
    "    assert len(ranked_edges[0]) == num_possible_edges\n",
    "    print(ranked_edges)\n",
    "#     print(min(list(ranked_edges[0])))\n",
    "    # Get the corresponding, ranked edge list and ranked dot products. \n",
    "    # we need to add an offset for the gene_node indeces.\n",
    "#     offset = np.array([np.zeros(num_possible_edges, dtype=int), nodes + np.ones(num_possible_edges, dtype=int)]).T\n",
    "    offset = np.array([disease_pad+np.zeros(num_possible_edges, dtype=int), nodes + np.zeros(num_possible_edges, dtype=int)]).T\n",
    "#     off1 = np.array([np.zeros(num_possible_edges, dtype=int), nodes + np.ones(num_possible_edges, dtype=int)])\n",
    "    print(np.dstack(ranked_edges)[0])\n",
    "    ranked_edge_list = np.dstack(ranked_edges)[0] + offset\n",
    "    #       print(ranked_edge_list)\n",
    "    print(ranked_edge_list)\n",
    "    assert ranked_edge_list.shape[0] == num_possible_edges\n",
    "    maxi = 0\n",
    "    mini2 = 0\n",
    "\n",
    "    for i,j in ranked_edge_list:\n",
    "        if i>maxi:\n",
    "            maxi = i\n",
    "        if j>mini2:\n",
    "            mini2 = j\n",
    "    print(maxi,mini2)\n",
    "\n",
    "    # Get the corresponding ranked dot products\n",
    "    ranked_dot_products = edge_dot_products[ranked_edges]\n",
    "    assert ranked_dot_products.shape[0] == num_possible_edges\n",
    "\n",
    "    return ranked_edge_list, ranked_dot_products"
   ]
  },
  {
   "cell_type": "code",
   "execution_count": 149,
   "metadata": {},
   "outputs": [
    {
     "data": {
      "text/plain": [
       "dict_keys(['Cellular Component', 'Disease', 'Pathway', 'Compound', 'Atc', 'Anatomy', 'Pharmacologic Class', 'Gene', 'Symptom', 'Side Effect', 'Tax', 'Biological Process', 'Molecular Function'])"
      ]
     },
     "execution_count": 149,
     "metadata": {},
     "output_type": "execute_result"
    }
   ],
   "source": [
    "mapping.keys()"
   ]
  },
  {
   "cell_type": "code",
   "execution_count": 150,
   "metadata": {},
   "outputs": [
    {
     "name": "stdout",
     "output_type": "stream",
     "text": [
      "97238\n",
      "5103 24313\n",
      "[[ 0.08149116 -0.01615149 -0.02593692 ... -0.01814115  0.5453022\n",
      "  -0.08829944]\n",
      " [-0.07778919  0.01783312  0.02713065 ...  0.01965071 -0.53087616\n",
      "   0.08828311]\n",
      " [-0.02801382  0.00723565  0.0104073  ...  0.0077804  -0.19399865\n",
      "   0.03301234]\n",
      " ...\n",
      " [-0.01687022  0.00476088  0.00722606 ...  0.00535359 -0.1208465\n",
      "   0.0209742 ]\n",
      " [-0.05132126  0.0121572   0.01846997 ...  0.01343495 -0.35267827\n",
      "   0.05903341]\n",
      " [ 0.10146434 -0.02040736 -0.03256564 ... -0.02286267  0.68013704\n",
      "  -0.11041456]]\n",
      "(array([4455, 4455, 4455, ..., 4455, 4455, 4455]), array([10985,  9528,  2498, ..., 16078, 22838, 11228]))\n",
      "[[ 4455 10985]\n",
      " [ 4455  9528]\n",
      " [ 4455  2498]\n",
      " ...\n",
      " [ 4455 16078]\n",
      " [ 4455 22838]\n",
      " [ 4455 11228]]\n",
      "[[ 5846 19301]\n",
      " [ 5846 17844]\n",
      " [ 5846 10814]\n",
      " ...\n",
      " [ 5846 24394]\n",
      " [ 5846 31154]\n",
      " [ 5846 19544]]\n",
      "6493 32628\n"
     ]
    }
   ],
   "source": [
    "ranked_edge_list, ranked_dot_products = get_ranked_edges(data_object_to_analyze, model_to_analyze, mapping, node_count)\n"
   ]
  },
  {
   "cell_type": "code",
   "execution_count": 128,
   "metadata": {},
   "outputs": [
    {
     "data": {
      "text/plain": [
       "{'Cellular Component': 1391,\n",
       " 'Disease': 5103,\n",
       " 'Pathway': 1822,\n",
       " 'Compound': 24313,\n",
       " 'Atc': 4048,\n",
       " 'Anatomy': 400,\n",
       " 'Pharmacologic Class': 345,\n",
       " 'Gene': 39220,\n",
       " 'Symptom': 415,\n",
       " 'Side Effect': 5701,\n",
       " 'Tax': 215,\n",
       " 'Biological Process': 11381,\n",
       " 'Molecular Function': 2884}"
      ]
     },
     "execution_count": 128,
     "metadata": {},
     "output_type": "execute_result"
    }
   ],
   "source": [
    "node_count"
   ]
  },
  {
   "cell_type": "code",
   "execution_count": 129,
   "metadata": {},
   "outputs": [
    {
     "name": "stdout",
     "output_type": "stream",
     "text": [
      "Cellular Component   0   1390\n",
      "Disease   1391   6493\n",
      "Pathway   6494   8315\n",
      "Compound   8316   32628\n",
      "Atc   32629   36676\n",
      "Anatomy   36677   37076\n",
      "Pharmacologic Class   37077   37421\n",
      "Gene   37422   76641\n",
      "Symptom   76642   77056\n",
      "Side Effect   77057   82757\n",
      "Tax   82758   82972\n",
      "Biological Process   82973   94353\n",
      "Molecular Function   94354   97237\n"
     ]
    }
   ],
   "source": [
    "for i in mapping:\n",
    "    print(i,' ',list(mapping[i].values())[0],' ',list(mapping[i].values())[-1])"
   ]
  },
  {
   "cell_type": "code",
   "execution_count": 100,
   "metadata": {},
   "outputs": [
    {
     "data": {
      "text/plain": [
       "19301"
      ]
     },
     "execution_count": 100,
     "metadata": {},
     "output_type": "execute_result"
    }
   ],
   "source": [
    "1391+5103+1822\n",
    "10985+8316"
   ]
  },
  {
   "cell_type": "code",
   "execution_count": 130,
   "metadata": {},
   "outputs": [],
   "source": [
    "select_gene_substrings = ''\n",
    "# select_disease_substrings = ['D001714']\n",
    "select_disease_substrings = [\"D018805\"]\n",
    "# (23311, 5070, 31362)"
   ]
  },
  {
   "cell_type": "code",
   "execution_count": 131,
   "metadata": {},
   "outputs": [
    {
     "data": {
      "text/plain": [
       "dict_keys(['Cellular Component', 'Disease', 'Pathway', 'Compound', 'Atc', 'Anatomy', 'Pharmacologic Class', 'Gene', 'Symptom', 'Side Effect', 'Tax', 'Biological Process', 'Molecular Function'])"
      ]
     },
     "execution_count": 131,
     "metadata": {},
     "output_type": "execute_result"
    }
   ],
   "source": [
    "mapping.keys()"
   ]
  },
  {
   "cell_type": "code",
   "execution_count": 151,
   "metadata": {},
   "outputs": [],
   "source": [
    "# mapping['Disease']\n",
    "dz_mapping = mapping['Disease']\n",
    "compound_mapping = mapping['Compound']"
   ]
  },
  {
   "cell_type": "code",
   "execution_count": 152,
   "metadata": {},
   "outputs": [],
   "source": [
    "# print(compound_mapping)"
   ]
  },
  {
   "cell_type": "code",
   "execution_count": 153,
   "metadata": {},
   "outputs": [
    {
     "name": "stdout",
     "output_type": "stream",
     "text": [
      "\n",
      "Top Predicted Edges\n",
      "edge=(4841,19301), \t dotprod=77.73,\t descriptions=(Disease::MESH:D018805,Compound::DB09341)\n",
      "edge=(4841,17844), \t dotprod=68.34,\t descriptions=(Disease::MESH:D018805,Compound::DB01373)\n",
      "edge=(4841,10814), \t dotprod=63.40,\t descriptions=(Disease::MESH:D018805,Compound::CHEBI:18186)\n",
      "edge=(4841,24300), \t dotprod=62.58,\t descriptions=(Disease::MESH:D018805,Compound::CHEBI:33704)\n",
      "edge=(4841,17768), \t dotprod=62.39,\t descriptions=(Disease::MESH:D018805,Compound::DB00898)\n",
      "edge=(4841,20120), \t dotprod=58.38,\t descriptions=(Disease::MESH:D018805,Compound::DB01234)\n",
      "edge=(4841,11793), \t dotprod=56.07,\t descriptions=(Disease::MESH:D018805,Compound::DB09140)\n",
      "edge=(4841,24034), \t dotprod=53.36,\t descriptions=(Disease::MESH:D018805,Compound::MESH:D004967)\n",
      "edge=(4841,13140), \t dotprod=51.60,\t descriptions=(Disease::MESH:D018805,Compound::MESH:D009569)\n",
      "edge=(4841,27019), \t dotprod=50.82,\t descriptions=(Disease::MESH:D018805,Compound::DB02527)\n",
      "edge=(4841,9366), \t dotprod=50.34,\t descriptions=(Disease::MESH:D018805,Compound::DB00783)\n",
      "edge=(4841,10765), \t dotprod=49.33,\t descriptions=(Disease::MESH:D018805,Compound::DB04540)\n",
      "edge=(4841,10032), \t dotprod=49.05,\t descriptions=(Disease::MESH:D018805,Compound::DB00171)\n",
      "edge=(4841,30022), \t dotprod=48.48,\t descriptions=(Disease::MESH:D018805,Compound::DB01593)\n",
      "edge=(4841,31658), \t dotprod=48.10,\t descriptions=(Disease::MESH:D018805,Compound::DB00091)\n",
      "edge=(4841,25645), \t dotprod=46.83,\t descriptions=(Disease::MESH:D018805,Compound::DB00624)\n",
      "edge=(4841,11326), \t dotprod=46.05,\t descriptions=(Disease::MESH:D018805,Compound::DB00515)\n",
      "edge=(4841,12208), \t dotprod=45.58,\t descriptions=(Disease::MESH:D018805,Compound::DB00396)\n",
      "edge=(4841,17206), \t dotprod=44.81,\t descriptions=(Disease::MESH:D018805,Compound::DB00563)\n",
      "edge=(4841,24620), \t dotprod=44.50,\t descriptions=(Disease::MESH:D018805,Compound::MESH:D013256)\n",
      "edge=(4841,13385), \t dotprod=44.24,\t descriptions=(Disease::MESH:D018805,Compound::DB00988)\n",
      "edge=(4841,23885), \t dotprod=44.19,\t descriptions=(Disease::MESH:D018805,Compound::DB00741)\n",
      "edge=(4841,18797), \t dotprod=43.99,\t descriptions=(Disease::MESH:D018805,Compound::DB00755)\n",
      "edge=(4841,20890), \t dotprod=43.81,\t descriptions=(Disease::MESH:D018805,Compound::DB00877)\n",
      "edge=(4841,28136), \t dotprod=43.37,\t descriptions=(Disease::MESH:D018805,Compound::DB00945)\n",
      "edge=(4841,13675), \t dotprod=43.25,\t descriptions=(Disease::MESH:D018805,Compound::DB00997)\n",
      "edge=(4841,28170), \t dotprod=43.12,\t descriptions=(Disease::MESH:D018805,Compound::CHEBI:35341)\n",
      "edge=(4841,28690), \t dotprod=43.05,\t descriptions=(Disease::MESH:D018805,Compound::DB02379)\n",
      "edge=(4841,21141), \t dotprod=42.33,\t descriptions=(Disease::MESH:D018805,Compound::DB01592)\n",
      "edge=(4841,9296), \t dotprod=42.16,\t descriptions=(Disease::MESH:D018805,Compound::DB01065)\n",
      "edge=(4841,16122), \t dotprod=42.10,\t descriptions=(Disease::MESH:D018805,Compound::DB00328)\n",
      "edge=(4841,15265), \t dotprod=41.80,\t descriptions=(Disease::MESH:D018805,Compound::CHEBI:35366)\n",
      "edge=(4841,12704), \t dotprod=41.27,\t descriptions=(Disease::MESH:D018805,Compound::DB01221)\n",
      "edge=(4841,20561), \t dotprod=41.08,\t descriptions=(Disease::MESH:D018805,Compound::DB00313)\n",
      "edge=(4841,22853), \t dotprod=40.00,\t descriptions=(Disease::MESH:D018805,Compound::DB00143)\n",
      "edge=(4841,27072), \t dotprod=39.72,\t descriptions=(Disease::MESH:D018805,Compound::DB01229)\n",
      "edge=(4841,8373), \t dotprod=39.64,\t descriptions=(Disease::MESH:D018805,Compound::DB00917)\n",
      "edge=(4841,22193), \t dotprod=39.49,\t descriptions=(Disease::MESH:D018805,Compound::DB00641)\n",
      "edge=(4841,23359), \t dotprod=39.37,\t descriptions=(Disease::MESH:D018805,Compound::DB11091)\n",
      "edge=(4841,10740), \t dotprod=39.34,\t descriptions=(Disease::MESH:D018805,Compound::DB11638)\n",
      "edge=(4841,20274), \t dotprod=38.97,\t descriptions=(Disease::MESH:D018805,Compound::DB00295)\n",
      "edge=(4841,18397), \t dotprod=38.95,\t descriptions=(Disease::MESH:D018805,Compound::DB00184)\n",
      "edge=(4841,25595), \t dotprod=38.88,\t descriptions=(Disease::MESH:D018805,Compound::DB08839)\n",
      "edge=(4841,18039), \t dotprod=38.64,\t descriptions=(Disease::MESH:D018805,Compound::DB00571)\n",
      "edge=(4841,17990), \t dotprod=38.63,\t descriptions=(Disease::MESH:D018805,Compound::DB11672)\n",
      "edge=(4841,10113), \t dotprod=38.42,\t descriptions=(Disease::MESH:D018805,Compound::CHEBI:29987)\n",
      "edge=(4841,12581), \t dotprod=38.23,\t descriptions=(Disease::MESH:D018805,Compound::DB14500)\n",
      "edge=(4841,13866), \t dotprod=37.90,\t descriptions=(Disease::MESH:D018805,Compound::DB00635)\n",
      "edge=(4841,24116), \t dotprod=37.83,\t descriptions=(Disease::MESH:D018805,Compound::DB01115)\n",
      "edge=(4841,24967), \t dotprod=37.42,\t descriptions=(Disease::MESH:D018805,Compound::DB00564)\n",
      "edge=(4841,9302), \t dotprod=37.36,\t descriptions=(Disease::MESH:D018805,Compound::DB05381)\n"
     ]
    }
   ],
   "source": [
    "# Filter data frame by the selected disease terms, and get their node ids.\n",
    "if select_disease_substrings:\n",
    "  dz_regex = \"(?i)\" + \"|\".join(select_disease_substrings)\n",
    "  query_df = combination_graph[(combination_graph['source_node'].str.contains(dz_regex)) | (combination_graph['destination_node'].str.contains(dz_regex))]\n",
    "#   print(query_df)\n",
    "  query_dz_nodes = [dz_mapping[dz_id] for dz_id in query_df['source_node'].drop_duplicates().tolist() if 'Disease' in dz_id]\n",
    "  query_dz_nodes2 = [dz_mapping[dz_id] for dz_id in query_df['destination_node'].drop_duplicates().tolist() if 'Disease' in dz_id]\n",
    "#   print(query_dz_nodes)\n",
    "  query_dz_nodes = query_dz_nodes + query_dz_nodes2\n",
    "#   for i in query_df.iterrows():\n",
    "        \n",
    "  # print(\"\\nQueried Disease Nodes:\\n\", query_df['Disease Name'])\n",
    "else:\n",
    "  query_dz_nodes = None\n",
    "\n",
    "# Filter data frame by the selected gene terms, and get their node ids.\n",
    "if select_gene_substrings:\n",
    "  gene_regex = \"(?i)\" + \"|\".join(select_gene_substrings)\n",
    "  query_df = combination_graph[combination_graph['Compound_id'].notna()]\n",
    "  query_df = query_df[(query_df['source_node'].str.contains(gene_regex)) | (query_df['destination_node'].str.contains(gene_regex))]\n",
    "  query_gene_nodes = [gene_mapping[gene_id] for gene_id in query_df['Compound_id'].drop_duplicates().tolist()]\n",
    "  # print(\"\\nQueried Gene Nodes:\\n\", query_df['Gene Name'])\n",
    "else:\n",
    "  query_gene_nodes = None\n",
    "\n",
    "# print(query_dz_nodes)\n",
    "# Get reverse dz and gene mappings, to print out all needed info.\n",
    "reverse_dz_mapping = {j: i for i,j in dz_mapping.items()}\n",
    "# reverse_gene_mapping = {j: i for i,j in gene_mapping.items()}\n",
    "reverse_compound_mapping = {j: i for i,j in compound_mapping.items()}\n",
    "\n",
    "print(\"\\nTop Predicted Edges\")\n",
    "top_k = 50\n",
    "curr_k = 0\n",
    "for dz_i, gene_i in ranked_edge_list:\n",
    "  \n",
    "  if query_dz_nodes and dz_i not in query_dz_nodes: #and gene_i not in reverse_compound_mapping\n",
    "    continue\n",
    "  if query_gene_nodes and gene_i not in query_gene_nodes:\n",
    "    continue\n",
    "#   print(dz_i)\n",
    "\n",
    "  dz_id = reverse_dz_mapping[dz_i] \n",
    "  gene_id = reverse_compound_mapping[gene_i]\n",
    "#   dz_description = combination_graph[combination_graph[\"Disease_id\"] == dz_id][\"Disease_id\"].drop_duplicates().iloc[0]\n",
    "#   gene_description = combination_graph[combination_graph[\"Compound_id\"] == gene_id][\"Compound_id\"].drop_duplicates().iloc[0]\n",
    "  dot_product = ranked_dot_products[curr_k]\n",
    "\n",
    "#   print('edge=({},{}), \\t dotprod={:.2f},\\t descriptions=({},{},{},{})'.format(dz_i, gene_i, dot_product, dz_description, gene_description,dz_id,gene_id))\n",
    "  print('edge=({},{}), \\t dotprod={:.2f},\\t descriptions=({},{})'.format(dz_i, gene_i, dot_product,dz_id,gene_id))\n",
    "\n",
    "  curr_k += 1\n",
    "  if curr_k > top_k:\n",
    "    break"
   ]
  },
  {
   "cell_type": "code",
   "execution_count": 70,
   "metadata": {},
   "outputs": [
    {
     "name": "stdout",
     "output_type": "stream",
     "text": [
      "\n",
      "Top Predicted Edges\n",
      "edge=(3826,9421), \t dotprod=72.34,\t descriptions=(Disease::MESH:D018805,Compound::DB00058)\n",
      "edge=(3826,9164), \t dotprod=71.77,\t descriptions=(Disease::MESH:D018805,Compound::DB02659)\n",
      "edge=(3826,16945), \t dotprod=68.86,\t descriptions=(Disease::MESH:D018805,Compound::CHEMBL10971)\n",
      "edge=(3826,25524), \t dotprod=65.42,\t descriptions=(Disease::MESH:D018805,Compound::CHEMBL1723343)\n",
      "edge=(3826,10135), \t dotprod=62.96,\t descriptions=(Disease::MESH:D018805,Compound::MESH:C075631)\n",
      "edge=(3826,5127), \t dotprod=60.29,\t descriptions=(Disease::MESH:D018805,Compound::CHEMBL99369)\n",
      "edge=(3826,21334), \t dotprod=59.54,\t descriptions=(Disease::MESH:D018805,Compound::MESH:D002109)\n",
      "edge=(3826,19638), \t dotprod=56.84,\t descriptions=(Disease::MESH:D018805,Compound::DB06762)\n",
      "edge=(3826,16764), \t dotprod=56.42,\t descriptions=(Disease::MESH:D018805,Compound::DB07943)\n",
      "edge=(3826,18976), \t dotprod=54.41,\t descriptions=(Disease::MESH:D018805,Compound::DB08833)\n",
      "edge=(3826,17543), \t dotprod=52.72,\t descriptions=(Disease::MESH:D018805,Compound::DB01580)\n",
      "edge=(3826,17288), \t dotprod=52.59,\t descriptions=(Disease::MESH:D018805,Compound::CHEMBL1699)\n",
      "edge=(3826,26981), \t dotprod=52.07,\t descriptions=(Disease::MESH:D018805,Compound::MESH:C044708)\n",
      "edge=(3826,14741), \t dotprod=51.82,\t descriptions=(Disease::MESH:D018805,Compound::DB02137)\n",
      "edge=(3826,20383), \t dotprod=50.50,\t descriptions=(Disease::MESH:D018805,Compound::DB03528)\n",
      "edge=(3826,13395), \t dotprod=49.80,\t descriptions=(Disease::MESH:D018805,Compound::MESH:D019855)\n",
      "edge=(3826,27920), \t dotprod=49.44,\t descriptions=(Disease::MESH:D018805,Compound::MESH:C532666)\n",
      "edge=(3826,27930), \t dotprod=47.89,\t descriptions=(Disease::MESH:D018805,Compound::CHEMBL1201052)\n",
      "edge=(3826,21839), \t dotprod=47.73,\t descriptions=(Disease::MESH:D018805,Compound::DB07923)\n",
      "edge=(3826,8002), \t dotprod=47.63,\t descriptions=(Disease::MESH:D018805,Compound::DB02023)\n",
      "edge=(3826,22319), \t dotprod=47.42,\t descriptions=(Disease::MESH:D018805,Compound::MESH:C030852)\n",
      "edge=(3826,20237), \t dotprod=47.18,\t descriptions=(Disease::MESH:D018805,Compound::DB12883)\n",
      "edge=(3826,26811), \t dotprod=45.37,\t descriptions=(Disease::MESH:D018805,Compound::DB15133)\n",
      "edge=(3826,22297), \t dotprod=45.36,\t descriptions=(Disease::MESH:D018805,Compound::DB06016)\n",
      "edge=(3826,20741), \t dotprod=44.53,\t descriptions=(Disease::MESH:D018805,Compound::DB08935)\n",
      "edge=(3826,25093), \t dotprod=44.43,\t descriptions=(Disease::MESH:D018805,Compound::DB08972)\n",
      "edge=(3826,18695), \t dotprod=44.39,\t descriptions=(Disease::MESH:D018805,Compound::DB08347)\n",
      "edge=(3826,17653), \t dotprod=43.83,\t descriptions=(Disease::MESH:D018805,Compound::DB07854)\n",
      "edge=(3826,24969), \t dotprod=43.59,\t descriptions=(Disease::MESH:D018805,Compound::MESH:C084683)\n",
      "edge=(3826,17803), \t dotprod=42.83,\t descriptions=(Disease::MESH:D018805,Compound::DB04836)\n",
      "edge=(3826,17145), \t dotprod=42.01,\t descriptions=(Disease::MESH:D018805,Compound::MESH:C055370)\n",
      "edge=(3826,12197), \t dotprod=41.57,\t descriptions=(Disease::MESH:D018805,Compound::CHEMBL544665)\n",
      "edge=(3826,8019), \t dotprod=41.54,\t descriptions=(Disease::MESH:D018805,Compound::MESH:C440633)\n",
      "edge=(3826,17154), \t dotprod=41.43,\t descriptions=(Disease::MESH:D018805,Compound::CHEMBL2108569)\n",
      "edge=(3826,15921), \t dotprod=40.90,\t descriptions=(Disease::MESH:D018805,Compound::MESH:C485107)\n",
      "edge=(3826,23305), \t dotprod=40.84,\t descriptions=(Disease::MESH:D018805,Compound::DB11429)\n",
      "edge=(3826,17754), \t dotprod=40.50,\t descriptions=(Disease::MESH:D018805,Compound::DB04271)\n",
      "edge=(3826,13223), \t dotprod=39.88,\t descriptions=(Disease::MESH:D018805,Compound::MESH:C072429)\n",
      "edge=(3826,12276), \t dotprod=39.84,\t descriptions=(Disease::MESH:D018805,Compound::DB13657)\n",
      "edge=(3826,6634), \t dotprod=39.74,\t descriptions=(Disease::MESH:D018805,Compound::MESH:C571881)\n",
      "edge=(3826,8450), \t dotprod=39.57,\t descriptions=(Disease::MESH:D018805,Compound::CHEMBL3544935)\n",
      "edge=(3826,17170), \t dotprod=39.57,\t descriptions=(Disease::MESH:D018805,Compound::MESH:C019012)\n",
      "edge=(3826,21745), \t dotprod=39.49,\t descriptions=(Disease::MESH:D018805,Compound::CHEMBL1200914)\n",
      "edge=(3826,27314), \t dotprod=39.46,\t descriptions=(Disease::MESH:D018805,Compound::DB01872)\n",
      "edge=(3826,26868), \t dotprod=39.44,\t descriptions=(Disease::MESH:D018805,Compound::DB02589)\n",
      "edge=(3826,5237), \t dotprod=39.27,\t descriptions=(Disease::MESH:D018805,Compound::DB11923)\n",
      "edge=(3826,15816), \t dotprod=39.06,\t descriptions=(Disease::MESH:D018805,Compound::MESH:C472787)\n",
      "edge=(3826,6550), \t dotprod=39.06,\t descriptions=(Disease::MESH:D018805,Compound::DB07798)\n",
      "edge=(3826,26799), \t dotprod=38.75,\t descriptions=(Disease::MESH:D018805,Compound::MESH:C528797)\n",
      "edge=(3826,25968), \t dotprod=38.59,\t descriptions=(Disease::MESH:D018805,Compound::MESH:C473646)\n",
      "edge=(3826,17429), \t dotprod=38.45,\t descriptions=(Disease::MESH:D018805,Compound::CHEBI:32568)\n"
     ]
    }
   ],
   "source": [
    "# Filter data frame by the selected disease terms, and get their node ids.\n",
    "if select_disease_substrings:\n",
    "  dz_regex = \"(?i)\" + \"|\".join(select_disease_substrings)\n",
    "  query_df = combination_graph[(combination_graph['source_node'].str.contains(dz_regex)) | (combination_graph['destination_node'].str.contains(dz_regex))]\n",
    "#   print(query_df)\n",
    "  query_dz_nodes = [dz_mapping[dz_id] for dz_id in query_df['source_node'].drop_duplicates().tolist() if 'Disease' in dz_id]\n",
    "  query_dz_nodes2 = [dz_mapping[dz_id] for dz_id in query_df['destination_node'].drop_duplicates().tolist() if 'Disease' in dz_id]\n",
    "#   print(query_dz_nodes)\n",
    "  query_dz_nodes = query_dz_nodes + query_dz_nodes2\n",
    "#   for i in query_df.iterrows():\n",
    "        \n",
    "  # print(\"\\nQueried Disease Nodes:\\n\", query_df['Disease Name'])\n",
    "else:\n",
    "  query_dz_nodes = None\n",
    "\n",
    "# Filter data frame by the selected gene terms, and get their node ids.\n",
    "if select_gene_substrings:\n",
    "  gene_regex = \"(?i)\" + \"|\".join(select_gene_substrings)\n",
    "  query_df = combination_graph[combination_graph['Compound_id'].notna()]\n",
    "  query_df = query_df[(query_df['source_node'].str.contains(gene_regex)) | (query_df['destination_node'].str.contains(gene_regex))]\n",
    "  query_gene_nodes = [gene_mapping[gene_id] for gene_id in query_df['Compound_id'].drop_duplicates().tolist()]\n",
    "  # print(\"\\nQueried Gene Nodes:\\n\", query_df['Gene Name'])\n",
    "else:\n",
    "  query_gene_nodes = None\n",
    "\n",
    "# print(query_dz_nodes)\n",
    "# Get reverse dz and gene mappings, to print out all needed info.\n",
    "reverse_dz_mapping = {j: i for i,j in dz_mapping.items()}\n",
    "# reverse_gene_mapping = {j: i for i,j in gene_mapping.items()}\n",
    "reverse_compound_mapping = {j: i for i,j in compound_mapping.items()}\n",
    "\n",
    "print(\"\\nTop Predicted Edges\")\n",
    "top_k = 50\n",
    "curr_k = 0\n",
    "for dz_i, gene_i in ranked_edge_list:\n",
    "  \n",
    "  if query_dz_nodes and dz_i not in query_dz_nodes: #and gene_i not in reverse_compound_mapping\n",
    "    continue\n",
    "  if query_gene_nodes and gene_i not in query_gene_nodes:\n",
    "    continue\n",
    "#   print(dz_i)\n",
    "\n",
    "  dz_id = reverse_dz_mapping[dz_i] \n",
    "  gene_id = reverse_compound_mapping[gene_i]\n",
    "#   dz_description = combination_graph[combination_graph[\"Disease_id\"] == dz_id][\"Disease_id\"].drop_duplicates().iloc[0]\n",
    "#   gene_description = combination_graph[combination_graph[\"Compound_id\"] == gene_id][\"Compound_id\"].drop_duplicates().iloc[0]\n",
    "  dot_product = ranked_dot_products[curr_k]\n",
    "\n",
    "#   print('edge=({},{}), \\t dotprod={:.2f},\\t descriptions=({},{},{},{})'.format(dz_i, gene_i, dot_product, dz_description, gene_description,dz_id,gene_id))\n",
    "  print('edge=({},{}), \\t dotprod={:.2f},\\t descriptions=({},{})'.format(dz_i, gene_i, dot_product,dz_id,gene_id))\n",
    "\n",
    "  curr_k += 1\n",
    "  if curr_k > top_k:\n",
    "    break"
   ]
  },
  {
   "cell_type": "code",
   "execution_count": null,
   "metadata": {},
   "outputs": [],
   "source": []
  },
  {
   "cell_type": "code",
   "execution_count": 154,
   "metadata": {},
   "outputs": [],
   "source": [
    "check = combination_graph[(combination_graph['source_node'].str.contains('D018805')) | (combination_graph['destination_node'].str.contains('D018805'))]"
   ]
  },
  {
   "cell_type": "code",
   "execution_count": 158,
   "metadata": {},
   "outputs": [
    {
     "data": {
      "text/html": [
       "<div>\n",
       "<style scoped>\n",
       "    .dataframe tbody tr th:only-of-type {\n",
       "        vertical-align: middle;\n",
       "    }\n",
       "\n",
       "    .dataframe tbody tr th {\n",
       "        vertical-align: top;\n",
       "    }\n",
       "\n",
       "    .dataframe thead th {\n",
       "        text-align: right;\n",
       "    }\n",
       "</style>\n",
       "<table border=\"1\" class=\"dataframe\">\n",
       "  <thead>\n",
       "    <tr style=\"text-align: right;\">\n",
       "      <th></th>\n",
       "      <th>source_node</th>\n",
       "      <th>destination_node</th>\n",
       "      <th>category</th>\n",
       "    </tr>\n",
       "  </thead>\n",
       "  <tbody>\n",
       "    <tr>\n",
       "      <th>1521973</th>\n",
       "      <td>Compound::DB01330</td>\n",
       "      <td>Disease::MESH:D018805</td>\n",
       "      <td>Compound:Disease</td>\n",
       "    </tr>\n",
       "    <tr>\n",
       "      <th>1616729</th>\n",
       "      <td>Compound::MESH:C102006</td>\n",
       "      <td>Disease::MESH:D018805</td>\n",
       "      <td>Compound:Disease</td>\n",
       "    </tr>\n",
       "    <tr>\n",
       "      <th>1616861</th>\n",
       "      <td>Compound::CHEBI:15372</td>\n",
       "      <td>Disease::MESH:D018805</td>\n",
       "      <td>Compound:Disease</td>\n",
       "    </tr>\n",
       "    <tr>\n",
       "      <th>1616979</th>\n",
       "      <td>Compound::DB01775</td>\n",
       "      <td>Disease::MESH:D018805</td>\n",
       "      <td>Compound:Disease</td>\n",
       "    </tr>\n",
       "    <tr>\n",
       "      <th>1617029</th>\n",
       "      <td>Compound::DB14546</td>\n",
       "      <td>Disease::MESH:D018805</td>\n",
       "      <td>Compound:Disease</td>\n",
       "    </tr>\n",
       "    <tr>\n",
       "      <th>...</th>\n",
       "      <td>...</td>\n",
       "      <td>...</td>\n",
       "      <td>...</td>\n",
       "    </tr>\n",
       "    <tr>\n",
       "      <th>1787517</th>\n",
       "      <td>Gene::93759</td>\n",
       "      <td>Disease::MESH:D018805</td>\n",
       "      <td>Gene:Disease</td>\n",
       "    </tr>\n",
       "    <tr>\n",
       "      <th>1788296</th>\n",
       "      <td>Gene::9518</td>\n",
       "      <td>Disease::MESH:D018805</td>\n",
       "      <td>Gene:Disease</td>\n",
       "    </tr>\n",
       "    <tr>\n",
       "      <th>1788363</th>\n",
       "      <td>Gene::953</td>\n",
       "      <td>Disease::MESH:D018805</td>\n",
       "      <td>Gene:Disease</td>\n",
       "    </tr>\n",
       "    <tr>\n",
       "      <th>1788513</th>\n",
       "      <td>Gene::958</td>\n",
       "      <td>Disease::MESH:D018805</td>\n",
       "      <td>Gene:Disease</td>\n",
       "    </tr>\n",
       "    <tr>\n",
       "      <th>1788591</th>\n",
       "      <td>Gene::959</td>\n",
       "      <td>Disease::MESH:D018805</td>\n",
       "      <td>Gene:Disease</td>\n",
       "    </tr>\n",
       "  </tbody>\n",
       "</table>\n",
       "<p>461 rows × 3 columns</p>\n",
       "</div>"
      ],
      "text/plain": [
       "                    source_node       destination_node          category\n",
       "1521973       Compound::DB01330  Disease::MESH:D018805  Compound:Disease\n",
       "1616729  Compound::MESH:C102006  Disease::MESH:D018805  Compound:Disease\n",
       "1616861   Compound::CHEBI:15372  Disease::MESH:D018805  Compound:Disease\n",
       "1616979       Compound::DB01775  Disease::MESH:D018805  Compound:Disease\n",
       "1617029       Compound::DB14546  Disease::MESH:D018805  Compound:Disease\n",
       "...                         ...                    ...               ...\n",
       "1787517             Gene::93759  Disease::MESH:D018805      Gene:Disease\n",
       "1788296              Gene::9518  Disease::MESH:D018805      Gene:Disease\n",
       "1788363               Gene::953  Disease::MESH:D018805      Gene:Disease\n",
       "1788513               Gene::958  Disease::MESH:D018805      Gene:Disease\n",
       "1788591               Gene::959  Disease::MESH:D018805      Gene:Disease\n",
       "\n",
       "[461 rows x 3 columns]"
      ]
     },
     "execution_count": 158,
     "metadata": {},
     "output_type": "execute_result"
    }
   ],
   "source": [
    "check"
   ]
  },
  {
   "cell_type": "code",
   "execution_count": 157,
   "metadata": {},
   "outputs": [
    {
     "data": {
      "text/html": [
       "<div>\n",
       "<style scoped>\n",
       "    .dataframe tbody tr th:only-of-type {\n",
       "        vertical-align: middle;\n",
       "    }\n",
       "\n",
       "    .dataframe tbody tr th {\n",
       "        vertical-align: top;\n",
       "    }\n",
       "\n",
       "    .dataframe thead th {\n",
       "        text-align: right;\n",
       "    }\n",
       "</style>\n",
       "<table border=\"1\" class=\"dataframe\">\n",
       "  <thead>\n",
       "    <tr style=\"text-align: right;\">\n",
       "      <th></th>\n",
       "      <th>source_node</th>\n",
       "      <th>destination_node</th>\n",
       "      <th>category</th>\n",
       "    </tr>\n",
       "  </thead>\n",
       "  <tbody>\n",
       "  </tbody>\n",
       "</table>\n",
       "</div>"
      ],
      "text/plain": [
       "Empty DataFrame\n",
       "Columns: [source_node, destination_node, category]\n",
       "Index: []"
      ]
     },
     "execution_count": 157,
     "metadata": {},
     "output_type": "execute_result"
    }
   ],
   "source": [
    "check[(check['source_node'].str.contains('CHEBI:18186')) | (check['destination_node'].str.contains('CHEBI:18186'))]"
   ]
  },
  {
   "cell_type": "code",
   "execution_count": 141,
   "metadata": {},
   "outputs": [],
   "source": [
    "# combination_graph[(combination_graph['Compound_id'] == 'Compound::DB06404') & (combination_graph['Disease_id']=='Compound::DB06404')]"
   ]
  },
  {
   "cell_type": "code",
   "execution_count": null,
   "metadata": {},
   "outputs": [],
   "source": []
  }
 ],
 "metadata": {
  "kernelspec": {
   "display_name": "venv",
   "language": "python",
   "name": "venv"
  },
  "language_info": {
   "codemirror_mode": {
    "name": "ipython",
    "version": 3
   },
   "file_extension": ".py",
   "mimetype": "text/x-python",
   "name": "python",
   "nbconvert_exporter": "python",
   "pygments_lexer": "ipython3",
   "version": "3.8.1"
  }
 },
 "nbformat": 4,
 "nbformat_minor": 4
}
